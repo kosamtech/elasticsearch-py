{
 "cells": [
  {
   "cell_type": "markdown",
   "metadata": {},
   "source": [
    "## Documentation\n",
    "\n",
    "To read more about the update API, visit the [docs](https://www.elastic.co/guide/en/elasticsearch/reference/current/docs-update.html).\n",
    "\n",
    "![update_docs](../images/update_docs.png)"
   ]
  },
  {
   "cell_type": "markdown",
   "metadata": {},
   "source": [
    "## Connect to ElasticSearch"
   ]
  },
  {
   "cell_type": "code",
   "execution_count": 2,
   "metadata": {},
   "outputs": [
    {
     "name": "stdout",
     "output_type": "stream",
     "text": [
      "Connected tp Elasticsearch!\n",
      "{'cluster_name': 'docker-cluster',\n",
      " 'cluster_uuid': 'IzAz_bJfQnS_zfMDjIPmJA',\n",
      " 'name': 'eb6cd056e782',\n",
      " 'tagline': 'You Know, for Search',\n",
      " 'version': {'build_date': '2025-01-09T14:09:01.578835424Z',\n",
      "             'build_flavor': 'default',\n",
      "             'build_hash': '0f88dde84795b30ca0d2c0c4796643ec5938aeb5',\n",
      "             'build_snapshot': False,\n",
      "             'build_type': 'docker',\n",
      "             'lucene_version': '8.11.3',\n",
      "             'minimum_index_compatibility_version': '6.0.0-beta1',\n",
      "             'minimum_wire_compatibility_version': '6.8.0',\n",
      "             'number': '7.17.27'}}\n"
     ]
    },
    {
     "name": "stderr",
     "output_type": "stream",
     "text": [
      "/tmp/ipykernel_14840/13932774.py:7: ElasticsearchWarning: Elasticsearch built-in security features are not enabled. Without authentication, your cluster could be accessible to anyone. See https://www.elastic.co/guide/en/elasticsearch/reference/7.17/security-minimal-setup.html to enable security.\n",
      "  client_info = es.info()\n"
     ]
    }
   ],
   "source": [
    "from pprint import pprint\n",
    "from elasticsearch import Elasticsearch\n",
    "\n",
    "HOST = \"http://localhost:9200\"\n",
    "\n",
    "es = Elasticsearch(HOST)\n",
    "client_info = es.info()\n",
    "print(\"Connected tp Elasticsearch!\")\n",
    "pprint(client_info.body)"
   ]
  },
  {
   "cell_type": "markdown",
   "metadata": {},
   "source": [
    "## Index documents"
   ]
  },
  {
   "cell_type": "code",
   "execution_count": 3,
   "metadata": {},
   "outputs": [
    {
     "name": "stderr",
     "output_type": "stream",
     "text": [
      "/tmp/ipykernel_14840/2757242129.py:10: ElasticsearchWarning: Elasticsearch built-in security features are not enabled. Without authentication, your cluster could be accessible to anyone. See https://www.elastic.co/guide/en/elasticsearch/reference/7.17/security-minimal-setup.html to enable security.\n",
      "  es.indices.delete(index=INDEX, ignore_unavailable=True)\n",
      "/tmp/ipykernel_14840/2757242129.py:11: ElasticsearchWarning: Elasticsearch built-in security features are not enabled. Without authentication, your cluster could be accessible to anyone. See https://www.elastic.co/guide/en/elasticsearch/reference/7.17/security-minimal-setup.html to enable security.\n",
      "  es.indices.create(index=INDEX, settings=settings)\n"
     ]
    },
    {
     "data": {
      "text/plain": [
       "ObjectApiResponse({'acknowledged': True, 'shards_acknowledged': True, 'index': 'my_index'})"
      ]
     },
     "execution_count": 3,
     "metadata": {},
     "output_type": "execute_result"
    }
   ],
   "source": [
    "INDEX = \"my_index\"\n",
    "\n",
    "settings = {\n",
    "    \"index\": {\n",
    "        \"number_of_shards\": 1,\n",
    "        \"number_of_replicas\": 0\n",
    "    }\n",
    "}\n",
    "\n",
    "es.indices.delete(index=INDEX, ignore_unavailable=True)\n",
    "es.indices.create(index=INDEX, settings=settings)"
   ]
  },
  {
   "cell_type": "markdown",
   "metadata": {},
   "source": [
    "We are using the `dummy_data.json` file to insert multiple documents in the index. We store the id of each document in the `document_ids` list."
   ]
  },
  {
   "cell_type": "code",
   "execution_count": 4,
   "metadata": {},
   "outputs": [
    {
     "name": "stderr",
     "output_type": "stream",
     "text": [
      "  0%|          | 0/3 [00:00<?, ?it/s]"
     ]
    },
    {
     "name": "stderr",
     "output_type": "stream",
     "text": [
      "/tmp/ipykernel_14840/2172172568.py:7: ElasticsearchWarning: Elasticsearch built-in security features are not enabled. Without authentication, your cluster could be accessible to anyone. See https://www.elastic.co/guide/en/elasticsearch/reference/7.17/security-minimal-setup.html to enable security.\n",
      "  response = es.index(index=INDEX, body=document)\n",
      "100%|██████████| 3/3 [00:00<00:00, 28.24it/s]\n"
     ]
    }
   ],
   "source": [
    "import json\n",
    "from tqdm import tqdm\n",
    "\n",
    "document_ids = []\n",
    "dummy_data = json.load(open(\"../data/dummy_data.json\"))\n",
    "for document in tqdm(dummy_data, total=len(dummy_data)):\n",
    "    response = es.index(index=INDEX, body=document)\n",
    "    document_ids.append(response[\"_id\"])"
   ]
  },
  {
   "cell_type": "markdown",
   "metadata": {},
   "source": [
    "## Update API"
   ]
  },
  {
   "cell_type": "markdown",
   "metadata": {},
   "source": [
    "### 1. If documents exists in the index"
   ]
  },
  {
   "cell_type": "markdown",
   "metadata": {},
   "source": [
    "#### 1.1 Update an existing field"
   ]
  },
  {
   "cell_type": "code",
   "execution_count": 5,
   "metadata": {},
   "outputs": [
    {
     "name": "stdout",
     "output_type": "stream",
     "text": [
      "{'_id': 'NXgrJJUBpQvCJGK52k2y',\n",
      " '_index': 'my_index',\n",
      " '_primary_term': 1,\n",
      " '_seq_no': 3,\n",
      " '_shards': {'failed': 0, 'successful': 1, 'total': 1},\n",
      " '_type': '_doc',\n",
      " '_version': 2,\n",
      " 'result': 'updated'}\n"
     ]
    },
    {
     "name": "stderr",
     "output_type": "stream",
     "text": [
      "/tmp/ipykernel_14840/3847238007.py:4: ElasticsearchWarning: Elasticsearch built-in security features are not enabled. Without authentication, your cluster could be accessible to anyone. See https://www.elastic.co/guide/en/elasticsearch/reference/7.17/security-minimal-setup.html to enable security.\n",
      "  response = es.update(\n"
     ]
    }
   ],
   "source": [
    "from pprint import pprint\n",
    "\n",
    "\n",
    "response = es.update(\n",
    "    index=INDEX,\n",
    "    id=document_ids[0],\n",
    "    script={\n",
    "        \"source\": \"ctx._source.title = params.title\",\n",
    "        \"params\": {\n",
    "            \"title\": \"New Title\"\n",
    "        }\n",
    "    },\n",
    ")\n",
    "pprint(response.body)"
   ]
  },
  {
   "cell_type": "code",
   "execution_count": 6,
   "metadata": {},
   "outputs": [
    {
     "name": "stdout",
     "output_type": "stream",
     "text": [
      "{'_id': 'NXgrJJUBpQvCJGK52k2y',\n",
      " '_index': 'my_index',\n",
      " '_primary_term': 1,\n",
      " '_seq_no': 3,\n",
      " '_source': {'created_on': '2024-09-22',\n",
      "             'text': 'This is the first sample document text.',\n",
      "             'title': 'New Title'},\n",
      " '_type': '_doc',\n",
      " '_version': 2,\n",
      " 'found': True}\n"
     ]
    },
    {
     "name": "stderr",
     "output_type": "stream",
     "text": [
      "/tmp/ipykernel_14840/132183440.py:1: ElasticsearchWarning: Elasticsearch built-in security features are not enabled. Without authentication, your cluster could be accessible to anyone. See https://www.elastic.co/guide/en/elasticsearch/reference/7.17/security-minimal-setup.html to enable security.\n",
      "  response = es.get(index=INDEX, id=document_ids[0])\n"
     ]
    }
   ],
   "source": [
    "response = es.get(index=INDEX, id=document_ids[0])\n",
    "pprint(response.body)"
   ]
  },
  {
   "cell_type": "markdown",
   "metadata": {},
   "source": [
    "#### 1.2 Add a new field"
   ]
  },
  {
   "cell_type": "markdown",
   "metadata": {},
   "source": [
    "To add a new field, you can either use the `script` argument or the `doc` argument."
   ]
  },
  {
   "cell_type": "markdown",
   "metadata": {},
   "source": [
    "##### 1.2.1 Method 1 (Script)"
   ]
  },
  {
   "cell_type": "code",
   "execution_count": 7,
   "metadata": {},
   "outputs": [
    {
     "name": "stdout",
     "output_type": "stream",
     "text": [
      "{'_id': 'NXgrJJUBpQvCJGK52k2y',\n",
      " '_index': 'my_index',\n",
      " '_primary_term': 1,\n",
      " '_seq_no': 4,\n",
      " '_shards': {'failed': 0, 'successful': 1, 'total': 1},\n",
      " '_type': '_doc',\n",
      " '_version': 3,\n",
      " 'result': 'updated'}\n"
     ]
    },
    {
     "name": "stderr",
     "output_type": "stream",
     "text": [
      "/tmp/ipykernel_14840/2502928623.py:1: ElasticsearchWarning: Elasticsearch built-in security features are not enabled. Without authentication, your cluster could be accessible to anyone. See https://www.elastic.co/guide/en/elasticsearch/reference/7.17/security-minimal-setup.html to enable security.\n",
      "  response = es.update(\n"
     ]
    }
   ],
   "source": [
    "response = es.update(\n",
    "    index=INDEX,\n",
    "    id=document_ids[0],\n",
    "    script={\n",
    "        \"source\": \"ctx._source.new_field = 'dummy_value'\",\n",
    "    },\n",
    ")\n",
    "pprint(response.body)"
   ]
  },
  {
   "cell_type": "code",
   "execution_count": 8,
   "metadata": {},
   "outputs": [
    {
     "name": "stdout",
     "output_type": "stream",
     "text": [
      "{'_id': 'NXgrJJUBpQvCJGK52k2y',\n",
      " '_index': 'my_index',\n",
      " '_primary_term': 1,\n",
      " '_seq_no': 4,\n",
      " '_source': {'created_on': '2024-09-22',\n",
      "             'new_field': 'dummy_value',\n",
      "             'text': 'This is the first sample document text.',\n",
      "             'title': 'New Title'},\n",
      " '_type': '_doc',\n",
      " '_version': 3,\n",
      " 'found': True}\n"
     ]
    },
    {
     "name": "stderr",
     "output_type": "stream",
     "text": [
      "/tmp/ipykernel_14840/132183440.py:1: ElasticsearchWarning: Elasticsearch built-in security features are not enabled. Without authentication, your cluster could be accessible to anyone. See https://www.elastic.co/guide/en/elasticsearch/reference/7.17/security-minimal-setup.html to enable security.\n",
      "  response = es.get(index=INDEX, id=document_ids[0])\n"
     ]
    }
   ],
   "source": [
    "response = es.get(index=INDEX, id=document_ids[0])\n",
    "pprint(response.body)"
   ]
  },
  {
   "cell_type": "markdown",
   "metadata": {},
   "source": [
    "##### 1.2.2 Method 2 (doc)"
   ]
  },
  {
   "cell_type": "code",
   "execution_count": 9,
   "metadata": {},
   "outputs": [
    {
     "name": "stdout",
     "output_type": "stream",
     "text": [
      "{'_id': 'NXgrJJUBpQvCJGK52k2y',\n",
      " '_index': 'my_index',\n",
      " '_primary_term': 1,\n",
      " '_seq_no': 5,\n",
      " '_shards': {'failed': 0, 'successful': 1, 'total': 1},\n",
      " '_type': '_doc',\n",
      " '_version': 4,\n",
      " 'result': 'updated'}\n"
     ]
    },
    {
     "name": "stderr",
     "output_type": "stream",
     "text": [
      "/tmp/ipykernel_14840/2052163754.py:1: ElasticsearchWarning: Elasticsearch built-in security features are not enabled. Without authentication, your cluster could be accessible to anyone. See https://www.elastic.co/guide/en/elasticsearch/reference/7.17/security-minimal-setup.html to enable security.\n",
      "  response = es.update(\n"
     ]
    }
   ],
   "source": [
    "response = es.update(\n",
    "    index=INDEX,\n",
    "    id=document_ids[0],\n",
    "    doc={\n",
    "        \"new_value_2\": \"dummy_value_2\",\n",
    "    },\n",
    ")\n",
    "pprint(response.body)"
   ]
  },
  {
   "cell_type": "code",
   "execution_count": 10,
   "metadata": {},
   "outputs": [
    {
     "name": "stdout",
     "output_type": "stream",
     "text": [
      "{'_id': 'NXgrJJUBpQvCJGK52k2y',\n",
      " '_index': 'my_index',\n",
      " '_primary_term': 1,\n",
      " '_seq_no': 5,\n",
      " '_source': {'created_on': '2024-09-22',\n",
      "             'new_field': 'dummy_value',\n",
      "             'new_value_2': 'dummy_value_2',\n",
      "             'text': 'This is the first sample document text.',\n",
      "             'title': 'New Title'},\n",
      " '_type': '_doc',\n",
      " '_version': 4,\n",
      " 'found': True}\n"
     ]
    },
    {
     "name": "stderr",
     "output_type": "stream",
     "text": [
      "/tmp/ipykernel_14840/997944435.py:1: ElasticsearchWarning: Elasticsearch built-in security features are not enabled. Without authentication, your cluster could be accessible to anyone. See https://www.elastic.co/guide/en/elasticsearch/reference/7.17/security-minimal-setup.html to enable security.\n",
      "  response = es.get(index='my_index', id=document_ids[0])\n"
     ]
    }
   ],
   "source": [
    "response = es.get(index='my_index', id=document_ids[0])\n",
    "pprint(response.body)"
   ]
  },
  {
   "cell_type": "markdown",
   "metadata": {},
   "source": [
    "#### 1.3 Remove a field"
   ]
  },
  {
   "cell_type": "code",
   "execution_count": 11,
   "metadata": {},
   "outputs": [
    {
     "name": "stdout",
     "output_type": "stream",
     "text": [
      "{'_id': 'NXgrJJUBpQvCJGK52k2y',\n",
      " '_index': 'my_index',\n",
      " '_primary_term': 1,\n",
      " '_seq_no': 6,\n",
      " '_shards': {'failed': 0, 'successful': 1, 'total': 1},\n",
      " '_type': '_doc',\n",
      " '_version': 5,\n",
      " 'result': 'updated'}\n"
     ]
    },
    {
     "name": "stderr",
     "output_type": "stream",
     "text": [
      "/tmp/ipykernel_14840/1487558570.py:1: ElasticsearchWarning: Elasticsearch built-in security features are not enabled. Without authentication, your cluster could be accessible to anyone. See https://www.elastic.co/guide/en/elasticsearch/reference/7.17/security-minimal-setup.html to enable security.\n",
      "  response = es.update(\n"
     ]
    }
   ],
   "source": [
    "response = es.update(\n",
    "    index=INDEX,\n",
    "    id=document_ids[0],\n",
    "    script={\n",
    "        \"source\": \"ctx._source.remove('new_field')\",\n",
    "    },\n",
    ")\n",
    "pprint(response.body)"
   ]
  },
  {
   "cell_type": "code",
   "execution_count": 12,
   "metadata": {},
   "outputs": [
    {
     "name": "stdout",
     "output_type": "stream",
     "text": [
      "{'_id': 'NXgrJJUBpQvCJGK52k2y',\n",
      " '_index': 'my_index',\n",
      " '_primary_term': 1,\n",
      " '_seq_no': 6,\n",
      " '_source': {'created_on': '2024-09-22',\n",
      "             'new_value_2': 'dummy_value_2',\n",
      "             'text': 'This is the first sample document text.',\n",
      "             'title': 'New Title'},\n",
      " '_type': '_doc',\n",
      " '_version': 5,\n",
      " 'found': True}\n"
     ]
    },
    {
     "name": "stderr",
     "output_type": "stream",
     "text": [
      "/tmp/ipykernel_14840/132183440.py:1: ElasticsearchWarning: Elasticsearch built-in security features are not enabled. Without authentication, your cluster could be accessible to anyone. See https://www.elastic.co/guide/en/elasticsearch/reference/7.17/security-minimal-setup.html to enable security.\n",
      "  response = es.get(index=INDEX, id=document_ids[0])\n"
     ]
    }
   ],
   "source": [
    "response = es.get(index=INDEX, id=document_ids[0])\n",
    "pprint(response.body)"
   ]
  },
  {
   "cell_type": "markdown",
   "metadata": {},
   "source": [
    "### 2. If documents doesn't exist in the index"
   ]
  },
  {
   "cell_type": "markdown",
   "metadata": {},
   "source": [
    "We use `doc_as_upsert` to tell Elasticsearch that if the document does not exist, it should be inserted as a new document."
   ]
  },
  {
   "cell_type": "code",
   "execution_count": 13,
   "metadata": {},
   "outputs": [
    {
     "name": "stderr",
     "output_type": "stream",
     "text": [
      "/tmp/ipykernel_14840/2486154538.py:1: ElasticsearchWarning: Elasticsearch built-in security features are not enabled. Without authentication, your cluster could be accessible to anyone. See https://www.elastic.co/guide/en/elasticsearch/reference/7.17/security-minimal-setup.html to enable security.\n",
      "  response = es.update(\n"
     ]
    }
   ],
   "source": [
    "response = es.update(\n",
    "    index=INDEX,\n",
    "    id=\"1\",\n",
    "    doc={\n",
    "        \"book_id\": 1234,\n",
    "        \"book_name\": \"A book\",\n",
    "    },\n",
    "    doc_as_upsert=True,\n",
    ")"
   ]
  },
  {
   "cell_type": "code",
   "execution_count": 14,
   "metadata": {},
   "outputs": [
    {
     "name": "stdout",
     "output_type": "stream",
     "text": [
      "{'_id': '1',\n",
      " '_index': 'my_index',\n",
      " '_primary_term': 1,\n",
      " '_seq_no': 7,\n",
      " '_shards': {'failed': 0, 'successful': 1, 'total': 1},\n",
      " '_type': '_doc',\n",
      " '_version': 1,\n",
      " 'result': 'created'}\n"
     ]
    }
   ],
   "source": [
    "pprint(response.body)"
   ]
  },
  {
   "cell_type": "markdown",
   "metadata": {},
   "source": [
    "Sure enough, we have 4 documents now instead of 3."
   ]
  },
  {
   "cell_type": "code",
   "execution_count": 16,
   "metadata": {},
   "outputs": [
    {
     "name": "stderr",
     "output_type": "stream",
     "text": [
      "/tmp/ipykernel_14840/1171723105.py:1: ElasticsearchWarning: Elasticsearch built-in security features are not enabled. Without authentication, your cluster could be accessible to anyone. See https://www.elastic.co/guide/en/elasticsearch/reference/7.17/security-minimal-setup.html to enable security.\n",
      "  response = es.count(index=INDEX)\n"
     ]
    },
    {
     "data": {
      "text/plain": [
       "4"
      ]
     },
     "execution_count": 16,
     "metadata": {},
     "output_type": "execute_result"
    }
   ],
   "source": [
    "response = es.count(index=INDEX)\n",
    "\n",
    "response[\"count\"]"
   ]
  }
 ],
 "metadata": {
  "kernelspec": {
   "display_name": "venv",
   "language": "python",
   "name": "python3"
  },
  "language_info": {
   "codemirror_mode": {
    "name": "ipython",
    "version": 3
   },
   "file_extension": ".py",
   "mimetype": "text/x-python",
   "name": "python",
   "nbconvert_exporter": "python",
   "pygments_lexer": "ipython3",
   "version": "3.12.3"
  }
 },
 "nbformat": 4,
 "nbformat_minor": 2
}
