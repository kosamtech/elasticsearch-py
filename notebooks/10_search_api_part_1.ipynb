{
 "cells": [
  {
   "cell_type": "markdown",
   "metadata": {},
   "source": [
    "## Documentation\n",
    "\n",
    "To read more about the search API, visit the docs [here](https://www.elastic.co/guide/en/elasticsearch/reference/current/search-your-data.html) and [here](https://www.elastic.co/guide/en/elasticsearch/reference/current/search-search.html).\n",
    "\n",
    "![search_api_docs](../images/search_api_docs.png)"
   ]
  },
  {
   "cell_type": "markdown",
   "metadata": {},
   "source": [
    "## Connect to ElasticSearch"
   ]
  },
  {
   "cell_type": "code",
   "execution_count": 1,
   "metadata": {},
   "outputs": [
    {
     "name": "stdout",
     "output_type": "stream",
     "text": [
      "Connected tp Elasticsearch!\n",
      "{'cluster_name': 'docker-cluster',\n",
      " 'cluster_uuid': 'IzAz_bJfQnS_zfMDjIPmJA',\n",
      " 'name': 'eb6cd056e782',\n",
      " 'tagline': 'You Know, for Search',\n",
      " 'version': {'build_date': '2025-01-09T14:09:01.578835424Z',\n",
      "             'build_flavor': 'default',\n",
      "             'build_hash': '0f88dde84795b30ca0d2c0c4796643ec5938aeb5',\n",
      "             'build_snapshot': False,\n",
      "             'build_type': 'docker',\n",
      "             'lucene_version': '8.11.3',\n",
      "             'minimum_index_compatibility_version': '6.0.0-beta1',\n",
      "             'minimum_wire_compatibility_version': '6.8.0',\n",
      "             'number': '7.17.27'}}\n"
     ]
    },
    {
     "name": "stderr",
     "output_type": "stream",
     "text": [
      "/tmp/ipykernel_16044/13932774.py:7: ElasticsearchWarning: Elasticsearch built-in security features are not enabled. Without authentication, your cluster could be accessible to anyone. See https://www.elastic.co/guide/en/elasticsearch/reference/7.17/security-minimal-setup.html to enable security.\n",
      "  client_info = es.info()\n"
     ]
    }
   ],
   "source": [
    "from pprint import pprint\n",
    "from elasticsearch import Elasticsearch\n",
    "\n",
    "HOST = \"http://localhost:9200\"\n",
    "\n",
    "es = Elasticsearch(HOST)\n",
    "client_info = es.info()\n",
    "print(\"Connected tp Elasticsearch!\")\n",
    "pprint(client_info.body)"
   ]
  },
  {
   "cell_type": "markdown",
   "metadata": {},
   "source": [
    "## Inserting documents"
   ]
  },
  {
   "cell_type": "code",
   "execution_count": 2,
   "metadata": {},
   "outputs": [
    {
     "name": "stderr",
     "output_type": "stream",
     "text": [
      "/tmp/ipykernel_16044/1356167815.py:11: ElasticsearchWarning: Elasticsearch built-in security features are not enabled. Without authentication, your cluster could be accessible to anyone. See https://www.elastic.co/guide/en/elasticsearch/reference/7.17/security-minimal-setup.html to enable security.\n",
      "  es.indices.delete(index=INDEX_1, ignore_unavailable=True)\n",
      "/tmp/ipykernel_16044/1356167815.py:12: ElasticsearchWarning: Elasticsearch built-in security features are not enabled. Without authentication, your cluster could be accessible to anyone. See https://www.elastic.co/guide/en/elasticsearch/reference/7.17/security-minimal-setup.html to enable security.\n",
      "  es.indices.create(index=INDEX_1, settings=settings)\n",
      "/tmp/ipykernel_16044/1356167815.py:14: ElasticsearchWarning: Elasticsearch built-in security features are not enabled. Without authentication, your cluster could be accessible to anyone. See https://www.elastic.co/guide/en/elasticsearch/reference/7.17/security-minimal-setup.html to enable security.\n",
      "  es.indices.delete(index=INDEX_2, ignore_unavailable=True)\n",
      "/tmp/ipykernel_16044/1356167815.py:15: ElasticsearchWarning: Elasticsearch built-in security features are not enabled. Without authentication, your cluster could be accessible to anyone. See https://www.elastic.co/guide/en/elasticsearch/reference/7.17/security-minimal-setup.html to enable security.\n",
      "  es.indices.create(index=INDEX_2, settings=settings)\n"
     ]
    },
    {
     "data": {
      "text/plain": [
       "ObjectApiResponse({'acknowledged': True, 'shards_acknowledged': True, 'index': 'index_2'})"
      ]
     },
     "execution_count": 2,
     "metadata": {},
     "output_type": "execute_result"
    }
   ],
   "source": [
    "settings = {\n",
    "    \"index\": {\n",
    "        \"number_of_shards\": 1,\n",
    "        \"number_of_replicas\": 0\n",
    "    }\n",
    "}\n",
    "\n",
    "INDEX_1 = \"index_1\"\n",
    "INDEX_2 = \"index_2\"\n",
    "\n",
    "es.indices.delete(index=INDEX_1, ignore_unavailable=True)\n",
    "es.indices.create(index=INDEX_1, settings=settings)\n",
    "\n",
    "es.indices.delete(index=INDEX_2, ignore_unavailable=True)\n",
    "es.indices.create(index=INDEX_2, settings=settings)"
   ]
  },
  {
   "cell_type": "markdown",
   "metadata": {},
   "source": [
    "Let's index the documents sequentially in both indices."
   ]
  },
  {
   "cell_type": "code",
   "execution_count": 3,
   "metadata": {},
   "outputs": [
    {
     "name": "stderr",
     "output_type": "stream",
     "text": [
      "  0%|          | 0/3 [00:00<?, ?it/s]/tmp/ipykernel_16044/1469348252.py:7: ElasticsearchWarning: Elasticsearch built-in security features are not enabled. Without authentication, your cluster could be accessible to anyone. See https://www.elastic.co/guide/en/elasticsearch/reference/7.17/security-minimal-setup.html to enable security.\n",
      "  response = es.index(index=INDEX_1, body=document)\n",
      "100%|██████████| 3/3 [00:00<00:00, 27.96it/s]\n",
      "  0%|          | 0/3 [00:00<?, ?it/s]/tmp/ipykernel_16044/1469348252.py:10: ElasticsearchWarning: Elasticsearch built-in security features are not enabled. Without authentication, your cluster could be accessible to anyone. See https://www.elastic.co/guide/en/elasticsearch/reference/7.17/security-minimal-setup.html to enable security.\n",
      "  response = es.index(index=INDEX_2, body=document)\n",
      "100%|██████████| 3/3 [00:00<00:00, 32.01it/s]\n"
     ]
    }
   ],
   "source": [
    "import json\n",
    "from tqdm import tqdm\n",
    "\n",
    "\n",
    "dummy_data = json.load(open(\"../data/dummy_data.json\"))\n",
    "for document in tqdm(dummy_data, total=len(dummy_data)):\n",
    "    response = es.index(index=INDEX_1, body=document)\n",
    "\n",
    "for document in tqdm(dummy_data, total=len(dummy_data)):\n",
    "    response = es.index(index=INDEX_2, body=document)"
   ]
  },
  {
   "cell_type": "markdown",
   "metadata": {},
   "source": [
    "## Searching"
   ]
  },
  {
   "cell_type": "markdown",
   "metadata": {},
   "source": [
    "We can provide the `index` argument one index at a time."
   ]
  },
  {
   "cell_type": "code",
   "execution_count": 4,
   "metadata": {},
   "outputs": [
    {
     "name": "stdout",
     "output_type": "stream",
     "text": [
      "{'_shards': {'failed': 0, 'skipped': 0, 'successful': 1, 'total': 1},\n",
      " 'hits': {'hits': [{'_id': 'O3hSJJUBpQvCJGK5g00k',\n",
      "                    '_index': 'index_1',\n",
      "                    '_score': 1.0,\n",
      "                    '_source': {'created_on': '2024-09-22',\n",
      "                                'text': 'This is the first sample document '\n",
      "                                        'text.',\n",
      "                                'title': 'Sample Title 1'},\n",
      "                    '_type': '_doc'},\n",
      "                   {'_id': 'PHhSJJUBpQvCJGK5g01q',\n",
      "                    '_index': 'index_1',\n",
      "                    '_score': 1.0,\n",
      "                    '_source': {'created_on': '2024-09-24',\n",
      "                                'text': 'Here is another example of a '\n",
      "                                        'document.',\n",
      "                                'title': 'Sample Title 2'},\n",
      "                    '_type': '_doc'},\n",
      "                   {'_id': 'PXhSJJUBpQvCJGK5g018',\n",
      "                    '_index': 'index_1',\n",
      "                    '_score': 1.0,\n",
      "                    '_source': {'created_on': '2024-09-24',\n",
      "                                'text': 'The content of the third document '\n",
      "                                        'goes here.',\n",
      "                                'title': 'Sample Title 3'},\n",
      "                    '_type': '_doc'}],\n",
      "          'max_score': 1.0,\n",
      "          'total': {'relation': 'eq', 'value': 3}},\n",
      " 'timed_out': False,\n",
      " 'took': 27}\n",
      "Found 3 documents in index_1\n"
     ]
    },
    {
     "name": "stderr",
     "output_type": "stream",
     "text": [
      "/tmp/ipykernel_16044/2522353776.py:1: ElasticsearchWarning: Elasticsearch built-in security features are not enabled. Without authentication, your cluster could be accessible to anyone. See https://www.elastic.co/guide/en/elasticsearch/reference/7.17/security-minimal-setup.html to enable security.\n",
      "  response = es.search(\n"
     ]
    }
   ],
   "source": [
    "response = es.search(\n",
    "    index=INDEX_1,\n",
    "    body={\n",
    "        \"query\": {\"match_all\": {}}\n",
    "    }\n",
    ")\n",
    "\n",
    "pprint(response.body)\n",
    "n_hits = response['hits']['total']['value']\n",
    "print(f\"Found {n_hits} documents in index_1\")"
   ]
  },
  {
   "cell_type": "code",
   "execution_count": 5,
   "metadata": {},
   "outputs": [
    {
     "name": "stdout",
     "output_type": "stream",
     "text": [
      "Found 3 documents in index_2\n"
     ]
    },
    {
     "name": "stderr",
     "output_type": "stream",
     "text": [
      "/tmp/ipykernel_16044/3652411460.py:1: ElasticsearchWarning: Elasticsearch built-in security features are not enabled. Without authentication, your cluster could be accessible to anyone. See https://www.elastic.co/guide/en/elasticsearch/reference/7.17/security-minimal-setup.html to enable security.\n",
      "  response = es.search(\n"
     ]
    }
   ],
   "source": [
    "response = es.search(\n",
    "    index=INDEX_2,\n",
    "    body={\n",
    "        \"query\": {\"match_all\": {}}\n",
    "    }\n",
    ")\n",
    "\n",
    "n_hits = response['hits']['total']['value']\n",
    "print(f\"Found {n_hits} documents in index_2\")"
   ]
  },
  {
   "cell_type": "markdown",
   "metadata": {},
   "source": [
    "Or we can provide the `index` argument multiple indices at once."
   ]
  },
  {
   "cell_type": "code",
   "execution_count": 6,
   "metadata": {},
   "outputs": [
    {
     "name": "stdout",
     "output_type": "stream",
     "text": [
      "Found 6 documents in index_1 and index_2\n"
     ]
    },
    {
     "name": "stderr",
     "output_type": "stream",
     "text": [
      "/tmp/ipykernel_16044/2507241360.py:1: ElasticsearchWarning: Elasticsearch built-in security features are not enabled. Without authentication, your cluster could be accessible to anyone. See https://www.elastic.co/guide/en/elasticsearch/reference/7.17/security-minimal-setup.html to enable security.\n",
      "  response = es.search(\n"
     ]
    }
   ],
   "source": [
    "response = es.search(\n",
    "    index=f'{INDEX_1},{INDEX_2}',\n",
    "    body={\n",
    "        \"query\": {\"match_all\": {}}\n",
    "    }\n",
    ")\n",
    "\n",
    "n_hits = response['hits']['total']['value']\n",
    "print(f\"Found {n_hits} documents in index_1 and index_2\")"
   ]
  },
  {
   "cell_type": "markdown",
   "metadata": {},
   "source": [
    "We can also use wildcards `*` to match multiple indices without listing them individually, such as `\"index*\"`."
   ]
  },
  {
   "cell_type": "code",
   "execution_count": 7,
   "metadata": {},
   "outputs": [
    {
     "name": "stdout",
     "output_type": "stream",
     "text": [
      "Found 6 documents in all indexes with name starting with 'index'\n"
     ]
    },
    {
     "name": "stderr",
     "output_type": "stream",
     "text": [
      "/tmp/ipykernel_16044/2616512749.py:1: ElasticsearchWarning: Elasticsearch built-in security features are not enabled. Without authentication, your cluster could be accessible to anyone. See https://www.elastic.co/guide/en/elasticsearch/reference/7.17/security-minimal-setup.html to enable security.\n",
      "  response = es.search(\n"
     ]
    }
   ],
   "source": [
    "response = es.search(\n",
    "    index='index*',\n",
    "    body={\n",
    "        \"query\": {\"match_all\": {}}\n",
    "    }\n",
    ")\n",
    "\n",
    "n_hits = response['hits']['total']['value']\n",
    "print(f\"Found {n_hits} documents in all indexes with name starting with 'index'\")"
   ]
  },
  {
   "cell_type": "markdown",
   "metadata": {},
   "source": [
    "Or, to search all indices, we use `_all`."
   ]
  },
  {
   "cell_type": "code",
   "execution_count": 8,
   "metadata": {},
   "outputs": [
    {
     "name": "stdout",
     "output_type": "stream",
     "text": [
      "Found 8 documents in all indexes\n"
     ]
    },
    {
     "name": "stderr",
     "output_type": "stream",
     "text": [
      "/tmp/ipykernel_16044/4060101895.py:1: ElasticsearchWarning: Elasticsearch built-in security features are not enabled. Without authentication, your cluster could be accessible to anyone. See https://www.elastic.co/guide/en/elasticsearch/reference/7.17/security-minimal-setup.html to enable security.\n",
      "  response = es.search(\n"
     ]
    }
   ],
   "source": [
    "response = es.search(\n",
    "    index='_all',\n",
    "    body={\n",
    "        \"query\": {\"match_all\": {}}\n",
    "    }\n",
    ")\n",
    "\n",
    "n_hits = response['hits']['total']['value']\n",
    "print(f\"Found {n_hits} documents in all indexes\")"
   ]
  }
 ],
 "metadata": {
  "kernelspec": {
   "display_name": "venv",
   "language": "python",
   "name": "python3"
  },
  "language_info": {
   "codemirror_mode": {
    "name": "ipython",
    "version": 3
   },
   "file_extension": ".py",
   "mimetype": "text/x-python",
   "name": "python",
   "nbconvert_exporter": "python",
   "pygments_lexer": "ipython3",
   "version": "3.12.3"
  }
 },
 "nbformat": 4,
 "nbformat_minor": 2
}
