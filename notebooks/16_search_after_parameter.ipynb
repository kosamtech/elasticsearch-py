{
 "cells": [
  {
   "cell_type": "markdown",
   "metadata": {},
   "source": [
    "## Documentation\n",
    "\n",
    "To read more about the search after parameter, checkout the docs [here](https://www.elastic.co/guide/en/elasticsearch/reference/8.15/paginate-search-results.html#search-after).\n",
    "\n",
    "![search_after_docs](../images/search_after_docs.png)"
   ]
  },
  {
   "cell_type": "markdown",
   "metadata": {},
   "source": [
    "## Connect to ElasticSearch"
   ]
  },
  {
   "cell_type": "code",
   "execution_count": 21,
   "metadata": {},
   "outputs": [
    {
     "name": "stdout",
     "output_type": "stream",
     "text": [
      "Connected tp Elasticsearch!\n",
      "{'cluster_name': 'docker-cluster',\n",
      " 'cluster_uuid': '9W_0LZIIR4aoxR46wiPMVA',\n",
      " 'name': '07d95b8d2eee',\n",
      " 'tagline': 'You Know, for Search',\n",
      " 'version': {'build_date': '2025-02-05T22:10:57.067596412Z',\n",
      "             'build_flavor': 'default',\n",
      "             'build_hash': '747663ddda3421467150de0e4301e8d4bc636b0c',\n",
      "             'build_snapshot': False,\n",
      "             'build_type': 'docker',\n",
      "             'lucene_version': '9.12.0',\n",
      "             'minimum_index_compatibility_version': '7.0.0',\n",
      "             'minimum_wire_compatibility_version': '7.17.0',\n",
      "             'number': '8.17.2'}}\n"
     ]
    }
   ],
   "source": [
    "from pprint import pprint\n",
    "from elasticsearch import Elasticsearch\n",
    "\n",
    "HOST = \"http://localhost:9200\"\n",
    "\n",
    "es = Elasticsearch(hosts=HOST)\n",
    "client_info = es.info()\n",
    "print(\"Connected tp Elasticsearch!\")\n",
    "pprint(client_info.body)"
   ]
  },
  {
   "cell_type": "markdown",
   "metadata": {},
   "source": [
    "## Preparing the index"
   ]
  },
  {
   "cell_type": "markdown",
   "metadata": {},
   "source": [
    "The `timestamp` field is useful for sorting documents, which is essential for the `search_after` parameter. Alternatively, you can use the document ID for sorting as well."
   ]
  },
  {
   "cell_type": "code",
   "execution_count": 22,
   "metadata": {},
   "outputs": [
    {
     "data": {
      "text/plain": [
       "ObjectApiResponse({'acknowledged': True, 'shards_acknowledged': True, 'index': 'my_index'})"
      ]
     },
     "execution_count": 22,
     "metadata": {},
     "output_type": "execute_result"
    }
   ],
   "source": [
    "INDEX = \"my_index\"\n",
    "\n",
    "mappings = {\n",
    "    \"properties\": {\n",
    "        \"timestamp\": {\"type\": \"date\"},\n",
    "        \"value\": {\"type\": \"float\"},\n",
    "        \"category\": {\"type\": \"keyword\"},\n",
    "        \"description\": {\"type\": \"text\"},\n",
    "        \"id\": {\"type\": \"keyword\"}\n",
    "    }\n",
    "}\n",
    "\n",
    "settings = {\n",
    "    \"index\": {\n",
    "        \"number_of_shards\": 1,\n",
    "        \"number_of_replicas\": 0\n",
    "    }\n",
    "}\n",
    "\n",
    "es.indices.delete(index=INDEX, ignore_unavailable=True)\n",
    "es.indices.create(index=INDEX, mappings=mappings, settings=settings)"
   ]
  },
  {
   "cell_type": "markdown",
   "metadata": {},
   "source": [
    "## Generating fake data"
   ]
  },
  {
   "cell_type": "markdown",
   "metadata": {},
   "source": [
    "The base documents will be duplicated to create a total of `100,000` documents. This is done to compare the `from/size` method with the `search_after` method."
   ]
  },
  {
   "cell_type": "code",
   "execution_count": 23,
   "metadata": {},
   "outputs": [],
   "source": [
    "base_documents = [\n",
    "    {\n",
    "        \"category\": \"A\",\n",
    "        \"value\": 100,\n",
    "        \"description\": \"First sample document\"\n",
    "    },\n",
    "    {\n",
    "        \"category\": \"B\",\n",
    "        \"value\": 200,\n",
    "        \"description\": \"Second sample document\"\n",
    "    },\n",
    "    {\n",
    "        \"category\": \"C\",\n",
    "        \"value\": 300,\n",
    "        \"description\": \"Third sample document\"\n",
    "    },\n",
    "    {\n",
    "        \"category\": \"D\",\n",
    "        \"value\": 400,\n",
    "        \"description\": \"Fourth sample document\"\n",
    "    },\n",
    "    {\n",
    "        \"category\": \"E\",\n",
    "        \"value\": 500,\n",
    "        \"description\": \"Fifth sample document\"\n",
    "    }\n",
    "]"
   ]
  },
  {
   "cell_type": "markdown",
   "metadata": {},
   "source": [
    "The `generate_bulk_data` function determines the number of times to duplicate the base documents to achieve a target of `100,000` documents. It also assigns a unique `_id`, modifies the `value` field randomly, and appends a `timestamp` to each duplicated document."
   ]
  },
  {
   "cell_type": "code",
   "execution_count": 24,
   "metadata": {},
   "outputs": [
    {
     "name": "stdout",
     "output_type": "stream",
     "text": [
      "Generated 100000 documents\n"
     ]
    }
   ],
   "source": [
    "import random\n",
    "\n",
    "from datetime import datetime, timedelta\n",
    "\n",
    "\n",
    "\n",
    "\n",
    "def generate_bulk_data(base_documents=base_documents, target_size=100000):\n",
    "    documents = []\n",
    "    base_count = len(base_documents)\n",
    "    duplications_needed = target_size // base_count\n",
    "\n",
    "    base_timestamp = datetime.now()\n",
    "\n",
    "    for i in range(duplications_needed):\n",
    "        for document in base_documents:\n",
    "            new_doc = document.copy()\n",
    "            new_doc[\"id\"] = f\"doc_{len(documents)}\"\n",
    "            new_doc[\"timestamp\"] = (\n",
    "                base_timestamp - timedelta(minutes=len(documents))\n",
    "            ).isoformat()\n",
    "            new_doc[\"value\"] = document[\"value\"] + random.uniform(-10, 10)\n",
    "            documents.append(new_doc)\n",
    "    return documents\n",
    "\n",
    "documents = generate_bulk_data()\n",
    "print(f\"Generated {len(documents)} documents\")\n"
   ]
  },
  {
   "cell_type": "markdown",
   "metadata": {},
   "source": [
    "## Indexing"
   ]
  },
  {
   "cell_type": "code",
   "execution_count": 25,
   "metadata": {},
   "outputs": [
    {
     "name": "stderr",
     "output_type": "stream",
     "text": [
      "100%|██████████| 100000/100000 [00:00<00:00, 1154021.86it/s]\n"
     ]
    },
    {
     "name": "stdout",
     "output_type": "stream",
     "text": [
      "False\n"
     ]
    }
   ],
   "source": [
    "from tqdm import tqdm\n",
    "\n",
    "operations = []\n",
    "for document in tqdm(documents, total=len(documents)):\n",
    "    operations.append({\"index\": {\"_index\": INDEX}})\n",
    "    operations.append(document)\n",
    "\n",
    "response = es.bulk(operations=operations)\n",
    "pprint(response.body[\"errors\"])"
   ]
  },
  {
   "cell_type": "code",
   "execution_count": 26,
   "metadata": {},
   "outputs": [
    {
     "name": "stdout",
     "output_type": "stream",
     "text": [
      "Indexed 100000 documents\n"
     ]
    }
   ],
   "source": [
    "count = es.count(index=INDEX)[\"count\"]\n",
    "print(f\"Indexed {count} documents\")"
   ]
  },
  {
   "cell_type": "markdown",
   "metadata": {},
   "source": [
    "## From / Size method"
   ]
  },
  {
   "cell_type": "markdown",
   "metadata": {},
   "source": [
    "To use the `from/size` method, include two parameters in your query: `from`, which specifies the number of documents to skip, and `size`, which tells Elasticsearch how many documents to return."
   ]
  },
  {
   "cell_type": "code",
   "execution_count": 27,
   "metadata": {},
   "outputs": [
    {
     "name": "stdout",
     "output_type": "stream",
     "text": [
      "ID doc_0\n",
      "ID doc_1\n",
      "ID doc_2\n",
      "ID doc_3\n",
      "ID doc_4\n",
      "ID doc_5\n",
      "ID doc_6\n",
      "ID doc_7\n",
      "ID doc_8\n",
      "ID doc_9\n"
     ]
    }
   ],
   "source": [
    "response = es.search(\n",
    "    index=INDEX,\n",
    "    body={\n",
    "        \"from\": 0,\n",
    "        \"size\": 10,\n",
    "        \"sort\": [\n",
    "            {\"timestamp\": \"desc\"},\n",
    "            {\"id\": \"desc\"}\n",
    "        ]\n",
    "    }\n",
    ")\n",
    "\n",
    "hits = response[\"hits\"][\"hits\"]\n",
    "for hit in hits:\n",
    "    print(f\"ID {hit[\"_source\"][\"id\"]}\")"
   ]
  },
  {
   "cell_type": "markdown",
   "metadata": {},
   "source": [
    "To retrieve the next batch of documents, adjust the `from` parameter from 0 to 10."
   ]
  },
  {
   "cell_type": "code",
   "execution_count": 28,
   "metadata": {},
   "outputs": [
    {
     "name": "stdout",
     "output_type": "stream",
     "text": [
      "ID doc_10\n",
      "ID doc_11\n",
      "ID doc_12\n",
      "ID doc_13\n",
      "ID doc_14\n",
      "ID doc_15\n",
      "ID doc_16\n",
      "ID doc_17\n",
      "ID doc_18\n",
      "ID doc_19\n"
     ]
    }
   ],
   "source": [
    "response = es.search(\n",
    "    index=INDEX,\n",
    "    body={\n",
    "        \"from\": 10,\n",
    "        \"size\": 10,\n",
    "        \"sort\": [\n",
    "            {\"timestamp\": \"desc\"},\n",
    "            {\"id\": \"desc\"}\n",
    "        ]\n",
    "    }\n",
    ")\n",
    "\n",
    "hits = response[\"hits\"][\"hits\"]\n",
    "for hit in hits:\n",
    "    print(f\"ID {hit[\"_source\"][\"id\"]}\")"
   ]
  },
  {
   "cell_type": "markdown",
   "metadata": {},
   "source": [
    "## Search after method"
   ]
  },
  {
   "cell_type": "markdown",
   "metadata": {},
   "source": [
    "To use the `search_after` method, include the following parameters in your query:\n",
    "\n",
    "1. **size**: Specifies the number of documents to retrieve in each batch, similar to the `size` parameter in `from/size`.\n",
    "\n",
    "2. **sort**: The `search_after` method requires specifying one or more fields to sort the results, such as `timestamp` or `id`. Sorting ensures a consistent order for navigating through result pages."
   ]
  },
  {
   "cell_type": "code",
   "execution_count": 29,
   "metadata": {},
   "outputs": [
    {
     "name": "stdout",
     "output_type": "stream",
     "text": [
      "ID doc_0\n",
      "Sort values: [1740173108513, 'doc_0']\n",
      "\n",
      "ID doc_1\n",
      "Sort values: [1740173048513, 'doc_1']\n",
      "\n",
      "ID doc_2\n",
      "Sort values: [1740172988513, 'doc_2']\n",
      "\n",
      "ID doc_3\n",
      "Sort values: [1740172928513, 'doc_3']\n",
      "\n",
      "ID doc_4\n",
      "Sort values: [1740172868513, 'doc_4']\n",
      "\n",
      "ID doc_5\n",
      "Sort values: [1740172808513, 'doc_5']\n",
      "\n",
      "ID doc_6\n",
      "Sort values: [1740172748513, 'doc_6']\n",
      "\n",
      "ID doc_7\n",
      "Sort values: [1740172688513, 'doc_7']\n",
      "\n",
      "ID doc_8\n",
      "Sort values: [1740172628513, 'doc_8']\n",
      "\n",
      "ID doc_9\n",
      "Sort values: [1740172568513, 'doc_9']\n",
      "\n"
     ]
    }
   ],
   "source": [
    "response = es.search(\n",
    "    index=INDEX,\n",
    "    body={\n",
    "        \"size\": 10,\n",
    "        \"sort\": [\n",
    "            {\"timestamp\": \"desc\"},\n",
    "            {\"id\": \"desc\"}\n",
    "        ]\n",
    "    }\n",
    ")\n",
    "\n",
    "hits = response[\"hits\"][\"hits\"]\n",
    "for hit in hits:\n",
    "    print(f\"ID {hit[\"_source\"][\"id\"]}\")\n",
    "    print(f\"Sort values: {hit[\"sort\"]}\")\n",
    "    print()"
   ]
  },
  {
   "cell_type": "markdown",
   "metadata": {},
   "source": [
    "To retrieve the next batch of documents using `search_after`, you’ll pass the `sort` values from the last document of the previous batch to the `search_after` parameter in the subsequent query."
   ]
  },
  {
   "cell_type": "code",
   "execution_count": 30,
   "metadata": {},
   "outputs": [
    {
     "name": "stdout",
     "output_type": "stream",
     "text": [
      "ID doc_10\n",
      "Sort values: [1740172508513, 'doc_10']\n",
      "\n",
      "ID doc_11\n",
      "Sort values: [1740172448513, 'doc_11']\n",
      "\n",
      "ID doc_12\n",
      "Sort values: [1740172388513, 'doc_12']\n",
      "\n",
      "ID doc_13\n",
      "Sort values: [1740172328513, 'doc_13']\n",
      "\n",
      "ID doc_14\n",
      "Sort values: [1740172268513, 'doc_14']\n",
      "\n",
      "ID doc_15\n",
      "Sort values: [1740172208513, 'doc_15']\n",
      "\n",
      "ID doc_16\n",
      "Sort values: [1740172148513, 'doc_16']\n",
      "\n",
      "ID doc_17\n",
      "Sort values: [1740172088513, 'doc_17']\n",
      "\n",
      "ID doc_18\n",
      "Sort values: [1740172028513, 'doc_18']\n",
      "\n",
      "ID doc_19\n",
      "Sort values: [1740171968513, 'doc_19']\n",
      "\n"
     ]
    }
   ],
   "source": [
    "last_sort_values = hits[-1][\"sort\"]\n",
    "response = es.search(\n",
    "    index=INDEX,\n",
    "    body={\n",
    "        \"size\": 10,\n",
    "        \"sort\": [\n",
    "            {\"timestamp\": \"desc\"},\n",
    "            {\"id\": \"desc\"}\n",
    "        ],\n",
    "        \"search_after\": last_sort_values\n",
    "    }\n",
    ")\n",
    "\n",
    "hits = response[\"hits\"][\"hits\"]\n",
    "for hit in hits:\n",
    "    print(f\"ID {hit[\"_source\"][\"id\"]}\")\n",
    "    print(f\"Sort values: {hit[\"sort\"]}\")\n",
    "    print()"
   ]
  },
  {
   "cell_type": "markdown",
   "metadata": {},
   "source": [
    "## Benchmark"
   ]
  },
  {
   "cell_type": "markdown",
   "metadata": {},
   "source": [
    "In this benchmark, we assess the performance of two pagination methods, `from/size` and `search_after`, by measuring and comparing their response times. We capture the response time of each method for multiple pages, plot the results, and calculate relevant statistics to provide insights."
   ]
  },
  {
   "cell_type": "markdown",
   "metadata": {},
   "source": [
    "### 1. From / Size test"
   ]
  },
  {
   "cell_type": "code",
   "execution_count": 31,
   "metadata": {},
   "outputs": [],
   "source": [
    "import time\n",
    "\n",
    "from tqdm import tqdm\n",
    "\n",
    "\n",
    "def test_from_size_pagination(page_size=100, max_pages=50):\n",
    "    timings = []\n",
    "\n",
    "    for page in tqdm(range(max_pages)):\n",
    "        start_time = time.time()\n",
    "\n",
    "        es.search(\n",
    "            index=INDEX,\n",
    "            body={\n",
    "                \"from\": page * page_size,\n",
    "                \"size\": page_size,\n",
    "                \"sort\": [\n",
    "                    {\"timestamp\": \"desc\"},\n",
    "                    {\"id\": \"desc\"}\n",
    "                ]\n",
    "            }\n",
    "        )\n",
    "\n",
    "        end_time = time.time()\n",
    "        final_time = (end_time - start_time)*1000\n",
    "        timings.append((page+1, final_time))\n",
    "    return timings\n"
   ]
  },
  {
   "cell_type": "markdown",
   "metadata": {},
   "source": [
    "When attempting to retrieve more than 10,000 documents, Elasticsearch returns an error indicating that the `from / size` method cannot handle this request."
   ]
  },
  {
   "cell_type": "code",
   "execution_count": 32,
   "metadata": {},
   "outputs": [
    {
     "name": "stderr",
     "output_type": "stream",
     "text": [
      " 20%|██        | 10/50 [00:00<00:01, 39.23it/s]\n"
     ]
    },
    {
     "ename": "BadRequestError",
     "evalue": "BadRequestError(400, 'search_phase_execution_exception', 'Result window is too large, from + size must be less than or equal to: [10000] but was [11000]. See the scroll api for a more efficient way to request large data sets. This limit can be set by changing the [index.max_result_window] index level setting.')",
     "output_type": "error",
     "traceback": [
      "\u001b[0;31m---------------------------------------------------------------------------\u001b[0m",
      "\u001b[0;31mBadRequestError\u001b[0m                           Traceback (most recent call last)",
      "Cell \u001b[0;32mIn[32], line 1\u001b[0m\n\u001b[0;32m----> 1\u001b[0m from_size_timings \u001b[38;5;241m=\u001b[39m \u001b[43mtest_from_size_pagination\u001b[49m\u001b[43m(\u001b[49m\u001b[43mpage_size\u001b[49m\u001b[38;5;241;43m=\u001b[39;49m\u001b[38;5;241;43m1000\u001b[39;49m\u001b[43m)\u001b[49m\n",
      "Cell \u001b[0;32mIn[31], line 12\u001b[0m, in \u001b[0;36mtest_from_size_pagination\u001b[0;34m(page_size, max_pages)\u001b[0m\n\u001b[1;32m      9\u001b[0m \u001b[38;5;28;01mfor\u001b[39;00m page \u001b[38;5;129;01min\u001b[39;00m tqdm(\u001b[38;5;28mrange\u001b[39m(max_pages)):\n\u001b[1;32m     10\u001b[0m     start_time \u001b[38;5;241m=\u001b[39m time\u001b[38;5;241m.\u001b[39mtime()\n\u001b[0;32m---> 12\u001b[0m     \u001b[43mes\u001b[49m\u001b[38;5;241;43m.\u001b[39;49m\u001b[43msearch\u001b[49m\u001b[43m(\u001b[49m\n\u001b[1;32m     13\u001b[0m \u001b[43m        \u001b[49m\u001b[43mindex\u001b[49m\u001b[38;5;241;43m=\u001b[39;49m\u001b[43mINDEX\u001b[49m\u001b[43m,\u001b[49m\n\u001b[1;32m     14\u001b[0m \u001b[43m        \u001b[49m\u001b[43mbody\u001b[49m\u001b[38;5;241;43m=\u001b[39;49m\u001b[43m{\u001b[49m\n\u001b[1;32m     15\u001b[0m \u001b[43m            \u001b[49m\u001b[38;5;124;43m\"\u001b[39;49m\u001b[38;5;124;43mfrom\u001b[39;49m\u001b[38;5;124;43m\"\u001b[39;49m\u001b[43m:\u001b[49m\u001b[43m \u001b[49m\u001b[43mpage\u001b[49m\u001b[43m \u001b[49m\u001b[38;5;241;43m*\u001b[39;49m\u001b[43m \u001b[49m\u001b[43mpage_size\u001b[49m\u001b[43m,\u001b[49m\n\u001b[1;32m     16\u001b[0m \u001b[43m            \u001b[49m\u001b[38;5;124;43m\"\u001b[39;49m\u001b[38;5;124;43msize\u001b[39;49m\u001b[38;5;124;43m\"\u001b[39;49m\u001b[43m:\u001b[49m\u001b[43m \u001b[49m\u001b[43mpage_size\u001b[49m\u001b[43m,\u001b[49m\n\u001b[1;32m     17\u001b[0m \u001b[43m            \u001b[49m\u001b[38;5;124;43m\"\u001b[39;49m\u001b[38;5;124;43msort\u001b[39;49m\u001b[38;5;124;43m\"\u001b[39;49m\u001b[43m:\u001b[49m\u001b[43m \u001b[49m\u001b[43m[\u001b[49m\n\u001b[1;32m     18\u001b[0m \u001b[43m                \u001b[49m\u001b[43m{\u001b[49m\u001b[38;5;124;43m\"\u001b[39;49m\u001b[38;5;124;43mtimestamp\u001b[39;49m\u001b[38;5;124;43m\"\u001b[39;49m\u001b[43m:\u001b[49m\u001b[43m \u001b[49m\u001b[38;5;124;43m\"\u001b[39;49m\u001b[38;5;124;43mdesc\u001b[39;49m\u001b[38;5;124;43m\"\u001b[39;49m\u001b[43m}\u001b[49m\u001b[43m,\u001b[49m\n\u001b[1;32m     19\u001b[0m \u001b[43m                \u001b[49m\u001b[43m{\u001b[49m\u001b[38;5;124;43m\"\u001b[39;49m\u001b[38;5;124;43mid\u001b[39;49m\u001b[38;5;124;43m\"\u001b[39;49m\u001b[43m:\u001b[49m\u001b[43m \u001b[49m\u001b[38;5;124;43m\"\u001b[39;49m\u001b[38;5;124;43mdesc\u001b[39;49m\u001b[38;5;124;43m\"\u001b[39;49m\u001b[43m}\u001b[49m\n\u001b[1;32m     20\u001b[0m \u001b[43m            \u001b[49m\u001b[43m]\u001b[49m\n\u001b[1;32m     21\u001b[0m \u001b[43m        \u001b[49m\u001b[43m}\u001b[49m\n\u001b[1;32m     22\u001b[0m \u001b[43m    \u001b[49m\u001b[43m)\u001b[49m\n\u001b[1;32m     24\u001b[0m     end_time \u001b[38;5;241m=\u001b[39m time\u001b[38;5;241m.\u001b[39mtime()\n\u001b[1;32m     25\u001b[0m     final_time \u001b[38;5;241m=\u001b[39m (end_time \u001b[38;5;241m-\u001b[39m start_time)\u001b[38;5;241m*\u001b[39m\u001b[38;5;241m1000\u001b[39m\n",
      "File \u001b[0;32m~/Documents/Python/elasticsearch-py/venv/lib/python3.12/site-packages/elasticsearch/_sync/client/utils.py:455\u001b[0m, in \u001b[0;36m_rewrite_parameters.<locals>.wrapper.<locals>.wrapped\u001b[0;34m(*args, **kwargs)\u001b[0m\n\u001b[1;32m    452\u001b[0m         \u001b[38;5;28;01mexcept\u001b[39;00m \u001b[38;5;167;01mKeyError\u001b[39;00m:\n\u001b[1;32m    453\u001b[0m             \u001b[38;5;28;01mpass\u001b[39;00m\n\u001b[0;32m--> 455\u001b[0m \u001b[38;5;28;01mreturn\u001b[39;00m \u001b[43mapi\u001b[49m\u001b[43m(\u001b[49m\u001b[38;5;241;43m*\u001b[39;49m\u001b[43margs\u001b[49m\u001b[43m,\u001b[49m\u001b[43m \u001b[49m\u001b[38;5;241;43m*\u001b[39;49m\u001b[38;5;241;43m*\u001b[39;49m\u001b[43mkwargs\u001b[49m\u001b[43m)\u001b[49m\n",
      "File \u001b[0;32m~/Documents/Python/elasticsearch-py/venv/lib/python3.12/site-packages/elasticsearch/_sync/client/__init__.py:4357\u001b[0m, in \u001b[0;36mElasticsearch.search\u001b[0;34m(self, index, aggregations, aggs, allow_no_indices, allow_partial_search_results, analyze_wildcard, analyzer, batched_reduce_size, ccs_minimize_roundtrips, collapse, default_operator, df, docvalue_fields, error_trace, expand_wildcards, explain, ext, fields, filter_path, force_synthetic_source, from_, highlight, human, ignore_throttled, ignore_unavailable, include_named_queries_score, indices_boost, knn, lenient, max_concurrent_shard_requests, min_compatible_shard_node, min_score, pit, post_filter, pre_filter_shard_size, preference, pretty, profile, q, query, rank, request_cache, rescore, rest_total_hits_as_int, retriever, routing, runtime_mappings, script_fields, scroll, search_after, search_type, seq_no_primary_term, size, slice, sort, source, source_excludes, source_includes, stats, stored_fields, suggest, suggest_field, suggest_mode, suggest_size, suggest_text, terminate_after, timeout, track_scores, track_total_hits, typed_keys, version, body)\u001b[0m\n\u001b[1;32m   4355\u001b[0m \u001b[38;5;28;01mif\u001b[39;00m __body \u001b[38;5;129;01mis\u001b[39;00m \u001b[38;5;129;01mnot\u001b[39;00m \u001b[38;5;28;01mNone\u001b[39;00m:\n\u001b[1;32m   4356\u001b[0m     __headers[\u001b[38;5;124m\"\u001b[39m\u001b[38;5;124mcontent-type\u001b[39m\u001b[38;5;124m\"\u001b[39m] \u001b[38;5;241m=\u001b[39m \u001b[38;5;124m\"\u001b[39m\u001b[38;5;124mapplication/json\u001b[39m\u001b[38;5;124m\"\u001b[39m\n\u001b[0;32m-> 4357\u001b[0m \u001b[38;5;28;01mreturn\u001b[39;00m \u001b[38;5;28;43mself\u001b[39;49m\u001b[38;5;241;43m.\u001b[39;49m\u001b[43mperform_request\u001b[49m\u001b[43m(\u001b[49m\u001b[43m  \u001b[49m\u001b[38;5;66;43;03m# type: ignore[return-value]\u001b[39;49;00m\n\u001b[1;32m   4358\u001b[0m \u001b[43m    \u001b[49m\u001b[38;5;124;43m\"\u001b[39;49m\u001b[38;5;124;43mPOST\u001b[39;49m\u001b[38;5;124;43m\"\u001b[39;49m\u001b[43m,\u001b[49m\n\u001b[1;32m   4359\u001b[0m \u001b[43m    \u001b[49m\u001b[43m__path\u001b[49m\u001b[43m,\u001b[49m\n\u001b[1;32m   4360\u001b[0m \u001b[43m    \u001b[49m\u001b[43mparams\u001b[49m\u001b[38;5;241;43m=\u001b[39;49m\u001b[43m__query\u001b[49m\u001b[43m,\u001b[49m\n\u001b[1;32m   4361\u001b[0m \u001b[43m    \u001b[49m\u001b[43mheaders\u001b[49m\u001b[38;5;241;43m=\u001b[39;49m\u001b[43m__headers\u001b[49m\u001b[43m,\u001b[49m\n\u001b[1;32m   4362\u001b[0m \u001b[43m    \u001b[49m\u001b[43mbody\u001b[49m\u001b[38;5;241;43m=\u001b[39;49m\u001b[43m__body\u001b[49m\u001b[43m,\u001b[49m\n\u001b[1;32m   4363\u001b[0m \u001b[43m    \u001b[49m\u001b[43mendpoint_id\u001b[49m\u001b[38;5;241;43m=\u001b[39;49m\u001b[38;5;124;43m\"\u001b[39;49m\u001b[38;5;124;43msearch\u001b[39;49m\u001b[38;5;124;43m\"\u001b[39;49m\u001b[43m,\u001b[49m\n\u001b[1;32m   4364\u001b[0m \u001b[43m    \u001b[49m\u001b[43mpath_parts\u001b[49m\u001b[38;5;241;43m=\u001b[39;49m\u001b[43m__path_parts\u001b[49m\u001b[43m,\u001b[49m\n\u001b[1;32m   4365\u001b[0m \u001b[43m\u001b[49m\u001b[43m)\u001b[49m\n",
      "File \u001b[0;32m~/Documents/Python/elasticsearch-py/venv/lib/python3.12/site-packages/elasticsearch/_sync/client/_base.py:271\u001b[0m, in \u001b[0;36mBaseClient.perform_request\u001b[0;34m(self, method, path, params, headers, body, endpoint_id, path_parts)\u001b[0m\n\u001b[1;32m    255\u001b[0m \u001b[38;5;28;01mdef\u001b[39;00m\u001b[38;5;250m \u001b[39m\u001b[38;5;21mperform_request\u001b[39m(\n\u001b[1;32m    256\u001b[0m     \u001b[38;5;28mself\u001b[39m,\n\u001b[1;32m    257\u001b[0m     method: \u001b[38;5;28mstr\u001b[39m,\n\u001b[0;32m   (...)\u001b[0m\n\u001b[1;32m    264\u001b[0m     path_parts: Optional[Mapping[\u001b[38;5;28mstr\u001b[39m, Any]] \u001b[38;5;241m=\u001b[39m \u001b[38;5;28;01mNone\u001b[39;00m,\n\u001b[1;32m    265\u001b[0m ) \u001b[38;5;241m-\u001b[39m\u001b[38;5;241m>\u001b[39m ApiResponse[Any]:\n\u001b[1;32m    266\u001b[0m     \u001b[38;5;28;01mwith\u001b[39;00m \u001b[38;5;28mself\u001b[39m\u001b[38;5;241m.\u001b[39m_otel\u001b[38;5;241m.\u001b[39mspan(\n\u001b[1;32m    267\u001b[0m         method,\n\u001b[1;32m    268\u001b[0m         endpoint_id\u001b[38;5;241m=\u001b[39mendpoint_id,\n\u001b[1;32m    269\u001b[0m         path_parts\u001b[38;5;241m=\u001b[39mpath_parts \u001b[38;5;129;01mor\u001b[39;00m {},\n\u001b[1;32m    270\u001b[0m     ) \u001b[38;5;28;01mas\u001b[39;00m otel_span:\n\u001b[0;32m--> 271\u001b[0m         response \u001b[38;5;241m=\u001b[39m \u001b[38;5;28;43mself\u001b[39;49m\u001b[38;5;241;43m.\u001b[39;49m\u001b[43m_perform_request\u001b[49m\u001b[43m(\u001b[49m\n\u001b[1;32m    272\u001b[0m \u001b[43m            \u001b[49m\u001b[43mmethod\u001b[49m\u001b[43m,\u001b[49m\n\u001b[1;32m    273\u001b[0m \u001b[43m            \u001b[49m\u001b[43mpath\u001b[49m\u001b[43m,\u001b[49m\n\u001b[1;32m    274\u001b[0m \u001b[43m            \u001b[49m\u001b[43mparams\u001b[49m\u001b[38;5;241;43m=\u001b[39;49m\u001b[43mparams\u001b[49m\u001b[43m,\u001b[49m\n\u001b[1;32m    275\u001b[0m \u001b[43m            \u001b[49m\u001b[43mheaders\u001b[49m\u001b[38;5;241;43m=\u001b[39;49m\u001b[43mheaders\u001b[49m\u001b[43m,\u001b[49m\n\u001b[1;32m    276\u001b[0m \u001b[43m            \u001b[49m\u001b[43mbody\u001b[49m\u001b[38;5;241;43m=\u001b[39;49m\u001b[43mbody\u001b[49m\u001b[43m,\u001b[49m\n\u001b[1;32m    277\u001b[0m \u001b[43m            \u001b[49m\u001b[43motel_span\u001b[49m\u001b[38;5;241;43m=\u001b[39;49m\u001b[43motel_span\u001b[49m\u001b[43m,\u001b[49m\n\u001b[1;32m    278\u001b[0m \u001b[43m        \u001b[49m\u001b[43m)\u001b[49m\n\u001b[1;32m    279\u001b[0m         otel_span\u001b[38;5;241m.\u001b[39mset_elastic_cloud_metadata(response\u001b[38;5;241m.\u001b[39mmeta\u001b[38;5;241m.\u001b[39mheaders)\n\u001b[1;32m    280\u001b[0m         \u001b[38;5;28;01mreturn\u001b[39;00m response\n",
      "File \u001b[0;32m~/Documents/Python/elasticsearch-py/venv/lib/python3.12/site-packages/elasticsearch/_sync/client/_base.py:352\u001b[0m, in \u001b[0;36mBaseClient._perform_request\u001b[0;34m(self, method, path, params, headers, body, otel_span)\u001b[0m\n\u001b[1;32m    349\u001b[0m         \u001b[38;5;28;01mexcept\u001b[39;00m (\u001b[38;5;167;01mValueError\u001b[39;00m, \u001b[38;5;167;01mKeyError\u001b[39;00m, \u001b[38;5;167;01mTypeError\u001b[39;00m):\n\u001b[1;32m    350\u001b[0m             \u001b[38;5;28;01mpass\u001b[39;00m\n\u001b[0;32m--> 352\u001b[0m     \u001b[38;5;28;01mraise\u001b[39;00m HTTP_EXCEPTIONS\u001b[38;5;241m.\u001b[39mget(meta\u001b[38;5;241m.\u001b[39mstatus, ApiError)(\n\u001b[1;32m    353\u001b[0m         message\u001b[38;5;241m=\u001b[39mmessage, meta\u001b[38;5;241m=\u001b[39mmeta, body\u001b[38;5;241m=\u001b[39mresp_body\n\u001b[1;32m    354\u001b[0m     )\n\u001b[1;32m    356\u001b[0m \u001b[38;5;66;03m# 'X-Elastic-Product: Elasticsearch' should be on every 2XX response.\u001b[39;00m\n\u001b[1;32m    357\u001b[0m \u001b[38;5;28;01mif\u001b[39;00m \u001b[38;5;129;01mnot\u001b[39;00m \u001b[38;5;28mself\u001b[39m\u001b[38;5;241m.\u001b[39m_verified_elasticsearch:\n\u001b[1;32m    358\u001b[0m     \u001b[38;5;66;03m# If the header is set we mark the server as verified.\u001b[39;00m\n",
      "\u001b[0;31mBadRequestError\u001b[0m: BadRequestError(400, 'search_phase_execution_exception', 'Result window is too large, from + size must be less than or equal to: [10000] but was [11000]. See the scroll api for a more efficient way to request large data sets. This limit can be set by changing the [index.max_result_window] index level setting.')"
     ]
    }
   ],
   "source": [
    "from_size_timings = test_from_size_pagination(page_size=1000)"
   ]
  },
  {
   "cell_type": "markdown",
   "metadata": {},
   "source": [
    "Let's reduce the `page_size` to avoid this problem."
   ]
  },
  {
   "cell_type": "code",
   "execution_count": 33,
   "metadata": {},
   "outputs": [
    {
     "name": "stderr",
     "output_type": "stream",
     "text": [
      "100%|██████████| 50/50 [00:00<00:00, 70.02it/s]\n"
     ]
    }
   ],
   "source": [
    "from_size_timings = test_from_size_pagination(page_size=200)"
   ]
  },
  {
   "cell_type": "markdown",
   "metadata": {},
   "source": [
    "### 2. Search after test"
   ]
  },
  {
   "cell_type": "code",
   "execution_count": 34,
   "metadata": {},
   "outputs": [],
   "source": [
    "\n",
    "\n",
    "def test_search_after_pagination(page_size=100, max_pages=50):\n",
    "    timings = []\n",
    "    search_after=None\n",
    "\n",
    "    for page in tqdm(range(max_pages)):\n",
    "        start_time = time.time()\n",
    "\n",
    "        body={\n",
    "            \"size\": page_size,\n",
    "            \"sort\": [\n",
    "                {\"timestamp\": \"desc\"},\n",
    "                {\"id\": \"desc\"}\n",
    "            ]\n",
    "        }\n",
    "        \n",
    "        if search_after:\n",
    "            body[\"search_after\"] = search_after\n",
    "\n",
    "        response = es.search(\n",
    "            index=INDEX,\n",
    "            body=body\n",
    "        )\n",
    "\n",
    "        hits = response[\"hits\"][\"hits\"]\n",
    "        if hits:\n",
    "            search_after = hits[-1][\"sort\"]\n",
    "\n",
    "        end_time = time.time()\n",
    "        final_time = (end_time - start_time) * 1000\n",
    "        timings.append((page+1, final_time))\n",
    "    return timings\n"
   ]
  },
  {
   "cell_type": "code",
   "execution_count": 35,
   "metadata": {},
   "outputs": [
    {
     "name": "stderr",
     "output_type": "stream",
     "text": [
      "100%|██████████| 50/50 [00:00<00:00, 110.21it/s]\n"
     ]
    }
   ],
   "source": [
    "search_after_timings = test_search_after_pagination(page_size=200)"
   ]
  },
  {
   "cell_type": "markdown",
   "metadata": {},
   "source": [
    "### 3. Plotting & statistics"
   ]
  },
  {
   "cell_type": "code",
   "execution_count": 37,
   "metadata": {},
   "outputs": [
    {
     "data": {
      "image/png": "[encoded data removed]",
      "text/plain": [
       "<Figure size 1200x600 with 1 Axes>"
      ]
     },
     "metadata": {},
     "output_type": "display_data"
    }
   ],
   "source": [
    "import matplotlib.pyplot as plt\n",
    "\n",
    "def plot_comparison(from_size_timings, search_after_timings):\n",
    "    plt.figure(figsize=(12, 6))\n",
    "\n",
    "    page_from_size, times_from_size = zip(*from_size_timings)\n",
    "    page_search_after, times_search_after = zip(*search_after_timings)\n",
    "\n",
    "    plt.plot(page_from_size, times_from_size, \"b-\", label=\"from/size\")\n",
    "    plt.plot(page_search_after, times_search_after, \"g-\", label=\"search_after\")\n",
    "    plt.xlabel(\"Page Number\")\n",
    "    plt.ylabel(\"Response time (milliseconds)\")\n",
    "    plt.title(\"Pagination Performance Comparison\")\n",
    "    plt.legend()\n",
    "    plt.grid(True)\n",
    "    plt.show()\n",
    "\n",
    "plot_comparison(from_size_timings, search_after_timings)"
   ]
  },
  {
   "cell_type": "markdown",
   "metadata": {},
   "source": [
    "The `search_after` method performs more efficiently, especially for deep pagination, due to its stable response time. In contrast, `from/size` may be suitable for shallow pagination but becomes inefficient as the page depth grows."
   ]
  },
  {
   "cell_type": "code",
   "execution_count": 38,
   "metadata": {},
   "outputs": [
    {
     "name": "stdout",
     "output_type": "stream",
     "text": [
      "\n",
      "Performance statistics:\n",
      "\n",
      "- From/Size pagination:\n",
      "Average time: 14.157 milliseconds\n",
      "Maximum time: 19.722 milliseconds\n",
      "Minimum time: 10.387 milliseconds\n",
      "\n",
      "- Search after pagination:\n",
      "Average time: 8.978 milliseconds\n",
      "Maximum time: 12.809 milliseconds\n",
      "Minimum time: 7.210 milliseconds\n"
     ]
    }
   ],
   "source": [
    "def calculate_stats(from_size_timings, search_after_timings):\n",
    "    _, times_from_size = zip(*from_size_timings)\n",
    "    _, times_search_after = zip(*search_after_timings)\n",
    "\n",
    "    stats = {\n",
    "        \"from_size\": {\n",
    "            \"avg_time\": sum(times_from_size) / len(times_from_size),\n",
    "            \"max_time\": max(times_from_size),\n",
    "            \"min_time\": min(times_from_size)\n",
    "        },\n",
    "        \"search_after\": {\n",
    "            \"avg_time\": sum(times_search_after) / len(times_search_after),\n",
    "            \"max_time\": max(times_search_after),\n",
    "            \"min_time\": min(times_search_after)\n",
    "        }\n",
    "    }\n",
    "    return stats\n",
    "\n",
    "\n",
    "stats = calculate_stats(from_size_timings, search_after_timings)\n",
    "print(\"\\nPerformance statistics:\")\n",
    "print(\"\\n- From/Size pagination:\")\n",
    "print(f\"Average time: {stats['from_size']['avg_time']:.3f} milliseconds\")\n",
    "print(f\"Maximum time: {stats['from_size']['max_time']:.3f} milliseconds\")\n",
    "print(f\"Minimum time: {stats['from_size']['min_time']:.3f} milliseconds\")\n",
    "\n",
    "print(\"\\n- Search after pagination:\")\n",
    "print(f\"Average time: {stats['search_after']['avg_time']:.3f} milliseconds\")\n",
    "print(f\"Maximum time: {stats['search_after']['max_time']:.3f} milliseconds\")\n",
    "print(f\"Minimum time: {stats['search_after']['min_time']:.3f} milliseconds\")"
   ]
  },
  {
   "cell_type": "markdown",
   "metadata": {},
   "source": [
    "These statistics validate that `search_after` is the preferable pagination method for consistent and scalable performance."
   ]
  },
  {
   "cell_type": "code",
   "execution_count": 39,
   "metadata": {},
   "outputs": [
    {
     "data": {
      "image/png": "[encoded data removed]",
      "text/plain": [
       "<Figure size 1200x600 with 1 Axes>"
      ]
     },
     "metadata": {},
     "output_type": "display_data"
    }
   ],
   "source": [
    "plt.figure(figsize=(12, 6))\n",
    "_, times_from_size = zip(*from_size_timings)\n",
    "_, times_search_after = zip(*search_after_timings)\n",
    "\n",
    "plt.hist(times_from_size, alpha=0.5, label=\"from/size\")\n",
    "plt.hist(times_search_after, alpha=0.5, label=\"search_after\")\n",
    "plt.xlabel(\"Response Time (milliseconds)\")\n",
    "plt.ylabel(\"Frequency\")\n",
    "plt.title(\"Distribution of response times\")\n",
    "plt.legend()\n",
    "plt.grid(True)\n",
    "plt.show()"
   ]
  },
  {
   "cell_type": "markdown",
   "metadata": {},
   "source": [
    "Based on this histogram visualization, the `search_after` approach (shown in orange) demonstrates consistently faster response times clustered around 2-5 milliseconds, while the `from/size` method (in blue) shows a wider distribution of response times spreading up to 16 milliseconds, suggesting that `search_after` provides more predictable and generally better performance for pagination."
   ]
  },
  {
   "cell_type": "code",
   "execution_count": 40,
   "metadata": {},
   "outputs": [
    {
     "name": "stdout",
     "output_type": "stream",
     "text": [
      "\n",
      "Performance degradation (Last page time / First page time):\n",
      "- From/Size degradation factor   : 1.38x\n",
      "- Search after degradation factor: 1.04x\n"
     ]
    }
   ],
   "source": [
    "def calculate_degradation(timings):\n",
    "    first_page_time = timings[0][1]\n",
    "    last_page_time = timings[-1][1]\n",
    "    degradation_factor = last_page_time / first_page_time\n",
    "    return degradation_factor\n",
    "\n",
    "\n",
    "from_size_degradation = calculate_degradation(from_size_timings)\n",
    "search_after_degradation = calculate_degradation(search_after_timings)\n",
    "\n",
    "print(\"\\nPerformance degradation (Last page time / First page time):\")\n",
    "print(f\"- From/Size degradation factor   : {from_size_degradation:.2f}x\")\n",
    "print(f\"- Search after degradation factor: {search_after_degradation:.2f}x\")"
   ]
  },
  {
   "cell_type": "markdown",
   "metadata": {},
   "source": [
    "The `search_after` method is far superior in maintaining a stable response time, even for large page numbers. In contrast, `from/size` exhibits significant performance degradation, making it less suitable for deep pagination.\n"
   ]
  },
  {
   "cell_type": "markdown",
   "metadata": {},
   "source": [
    "## Conclusion"
   ]
  },
  {
   "cell_type": "markdown",
   "metadata": {},
   "source": [
    "For larger indexes, it's recommended to use the `search_after` method. For smaller indexes, both methods work well."
   ]
  }
 ],
 "metadata": {
  "kernelspec": {
   "display_name": "venv",
   "language": "python",
   "name": "python3"
  },
  "language_info": {
   "codemirror_mode": {
    "name": "ipython",
    "version": 3
   },
   "file_extension": ".py",
   "mimetype": "text/x-python",
   "name": "python",
   "nbconvert_exporter": "python",
   "pygments_lexer": "ipython3",
   "version": "3.12.3"
  }
 },
 "nbformat": 4,
 "nbformat_minor": 2
}
