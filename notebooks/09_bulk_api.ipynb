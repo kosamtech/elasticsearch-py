{
 "cells": [
  {
   "cell_type": "markdown",
   "metadata": {},
   "source": [
    "## Documentation\n",
    "\n",
    "To read more about the bulk API, visit the [docs](https://www.elastic.co/guide/en/elasticsearch/reference/current/docs-bulk.html).\n",
    "\n",
    "![bulk_api_docs](../images/bulk_api_docs.png)"
   ]
  },
  {
   "cell_type": "markdown",
   "metadata": {},
   "source": [
    "## Connect to ElasticSearch"
   ]
  },
  {
   "cell_type": "code",
   "execution_count": 1,
   "metadata": {},
   "outputs": [
    {
     "name": "stdout",
     "output_type": "stream",
     "text": [
      "Connected tp Elasticsearch!\n",
      "{'cluster_name': 'docker-cluster',\n",
      " 'cluster_uuid': 'IzAz_bJfQnS_zfMDjIPmJA',\n",
      " 'name': 'eb6cd056e782',\n",
      " 'tagline': 'You Know, for Search',\n",
      " 'version': {'build_date': '2025-01-09T14:09:01.578835424Z',\n",
      "             'build_flavor': 'default',\n",
      "             'build_hash': '0f88dde84795b30ca0d2c0c4796643ec5938aeb5',\n",
      "             'build_snapshot': False,\n",
      "             'build_type': 'docker',\n",
      "             'lucene_version': '8.11.3',\n",
      "             'minimum_index_compatibility_version': '6.0.0-beta1',\n",
      "             'minimum_wire_compatibility_version': '6.8.0',\n",
      "             'number': '7.17.27'}}\n"
     ]
    },
    {
     "name": "stderr",
     "output_type": "stream",
     "text": [
      "/tmp/ipykernel_15397/13932774.py:7: ElasticsearchWarning: Elasticsearch built-in security features are not enabled. Without authentication, your cluster could be accessible to anyone. See https://www.elastic.co/guide/en/elasticsearch/reference/7.17/security-minimal-setup.html to enable security.\n",
      "  client_info = es.info()\n"
     ]
    }
   ],
   "source": [
    "from pprint import pprint\n",
    "from elasticsearch import Elasticsearch\n",
    "\n",
    "HOST = \"http://localhost:9200\"\n",
    "\n",
    "es = Elasticsearch(HOST)\n",
    "client_info = es.info()\n",
    "print(\"Connected tp Elasticsearch!\")\n",
    "pprint(client_info.body)"
   ]
  },
  {
   "cell_type": "markdown",
   "metadata": {},
   "source": [
    "## Without bulk API"
   ]
  },
  {
   "cell_type": "code",
   "execution_count": 2,
   "metadata": {},
   "outputs": [
    {
     "name": "stderr",
     "output_type": "stream",
     "text": [
      "/tmp/ipykernel_15397/2757242129.py:10: ElasticsearchWarning: Elasticsearch built-in security features are not enabled. Without authentication, your cluster could be accessible to anyone. See https://www.elastic.co/guide/en/elasticsearch/reference/7.17/security-minimal-setup.html to enable security.\n",
      "  es.indices.delete(index=INDEX, ignore_unavailable=True)\n",
      "/tmp/ipykernel_15397/2757242129.py:11: ElasticsearchWarning: Elasticsearch built-in security features are not enabled. Without authentication, your cluster could be accessible to anyone. See https://www.elastic.co/guide/en/elasticsearch/reference/7.17/security-minimal-setup.html to enable security.\n",
      "  es.indices.create(index=INDEX, settings=settings)\n"
     ]
    },
    {
     "data": {
      "text/plain": [
       "ObjectApiResponse({'acknowledged': True, 'shards_acknowledged': True, 'index': 'my_index'})"
      ]
     },
     "execution_count": 2,
     "metadata": {},
     "output_type": "execute_result"
    }
   ],
   "source": [
    "INDEX = \"my_index\"\n",
    "\n",
    "settings = {\n",
    "    \"index\": {\n",
    "        \"number_of_shards\": 1,\n",
    "        \"number_of_replicas\": 0\n",
    "    }\n",
    "}\n",
    "\n",
    "es.indices.delete(index=INDEX, ignore_unavailable=True)\n",
    "es.indices.create(index=INDEX, settings=settings)"
   ]
  },
  {
   "cell_type": "markdown",
   "metadata": {},
   "source": [
    "Let's index the documents sequentially."
   ]
  },
  {
   "cell_type": "code",
   "execution_count": 3,
   "metadata": {},
   "outputs": [
    {
     "name": "stderr",
     "output_type": "stream",
     "text": [
      "  0%|          | 0/3 [00:00<?, ?it/s]/tmp/ipykernel_15397/2630980969.py:8: ElasticsearchWarning: Elasticsearch built-in security features are not enabled. Without authentication, your cluster could be accessible to anyone. See https://www.elastic.co/guide/en/elasticsearch/reference/7.17/security-minimal-setup.html to enable security.\n",
      "  response = es.index(index='my_index', body=document)\n",
      "100%|██████████| 3/3 [00:00<00:00, 29.25it/s]\n"
     ]
    }
   ],
   "source": [
    "import json\n",
    "from tqdm import tqdm\n",
    "\n",
    "\n",
    "document_ids = []\n",
    "dummy_data = json.load(open(\"../data/dummy_data.json\"))\n",
    "for document in tqdm(dummy_data, total=len(dummy_data)):\n",
    "    response = es.index(index='my_index', body=document)\n",
    "    document_ids.append(response['_id'])"
   ]
  },
  {
   "cell_type": "markdown",
   "metadata": {},
   "source": [
    "Let's update the first and second documents"
   ]
  },
  {
   "cell_type": "code",
   "execution_count": 4,
   "metadata": {},
   "outputs": [
    {
     "name": "stdout",
     "output_type": "stream",
     "text": [
      "{'_id': 'OHg8JJUBpQvCJGK52U03',\n",
      " '_index': 'my_index',\n",
      " '_primary_term': 1,\n",
      " '_seq_no': 3,\n",
      " '_shards': {'failed': 0, 'successful': 1, 'total': 1},\n",
      " '_type': '_doc',\n",
      " '_version': 2,\n",
      " 'result': 'updated'}\n"
     ]
    },
    {
     "name": "stderr",
     "output_type": "stream",
     "text": [
      "/tmp/ipykernel_15397/2964910798.py:3: ElasticsearchWarning: Elasticsearch built-in security features are not enabled. Without authentication, your cluster could be accessible to anyone. See https://www.elastic.co/guide/en/elasticsearch/reference/7.17/security-minimal-setup.html to enable security.\n",
      "  response = es.update(\n"
     ]
    }
   ],
   "source": [
    "from pprint import pprint\n",
    "\n",
    "response = es.update(\n",
    "    index=INDEX,\n",
    "    id=document_ids[0],\n",
    "    script={\n",
    "        \"source\": \"ctx._source.title = params.title\",\n",
    "        \"params\": {\n",
    "            \"title\": \"New Title\"\n",
    "        }\n",
    "    },\n",
    ")\n",
    "pprint(response.body)"
   ]
  },
  {
   "cell_type": "code",
   "execution_count": 5,
   "metadata": {},
   "outputs": [
    {
     "name": "stdout",
     "output_type": "stream",
     "text": [
      "{'_id': 'OXg8JJUBpQvCJGK52U18',\n",
      " '_index': 'my_index',\n",
      " '_primary_term': 1,\n",
      " '_seq_no': 4,\n",
      " '_shards': {'failed': 0, 'successful': 1, 'total': 1},\n",
      " '_type': '_doc',\n",
      " '_version': 2,\n",
      " 'result': 'updated'}\n"
     ]
    },
    {
     "name": "stderr",
     "output_type": "stream",
     "text": [
      "/tmp/ipykernel_15397/263503612.py:1: ElasticsearchWarning: Elasticsearch built-in security features are not enabled. Without authentication, your cluster could be accessible to anyone. See https://www.elastic.co/guide/en/elasticsearch/reference/7.17/security-minimal-setup.html to enable security.\n",
      "  response = es.update(\n"
     ]
    }
   ],
   "source": [
    "response = es.update(\n",
    "    index=INDEX,\n",
    "    id=document_ids[1],\n",
    "    script={\n",
    "        \"source\": \"ctx._source.new_field = 'dummy_value'\",\n",
    "    },\n",
    ")\n",
    "pprint(response.body)"
   ]
  },
  {
   "cell_type": "markdown",
   "metadata": {},
   "source": [
    "Let's delete the third document"
   ]
  },
  {
   "cell_type": "code",
   "execution_count": 6,
   "metadata": {},
   "outputs": [
    {
     "name": "stdout",
     "output_type": "stream",
     "text": [
      "{'_id': 'Ong8JJUBpQvCJGK52U2M',\n",
      " '_index': 'my_index',\n",
      " '_primary_term': 1,\n",
      " '_seq_no': 5,\n",
      " '_shards': {'failed': 0, 'successful': 1, 'total': 1},\n",
      " '_type': '_doc',\n",
      " '_version': 2,\n",
      " 'result': 'deleted'}\n"
     ]
    },
    {
     "name": "stderr",
     "output_type": "stream",
     "text": [
      "/tmp/ipykernel_15397/3254180627.py:1: ElasticsearchWarning: Elasticsearch built-in security features are not enabled. Without authentication, your cluster could be accessible to anyone. See https://www.elastic.co/guide/en/elasticsearch/reference/7.17/security-minimal-setup.html to enable security.\n",
      "  response = es.delete(index=INDEX, id=document_ids[2])\n"
     ]
    }
   ],
   "source": [
    "response = es.delete(index=INDEX, id=document_ids[2])\n",
    "pprint(response.body)"
   ]
  },
  {
   "cell_type": "code",
   "execution_count": 7,
   "metadata": {},
   "outputs": [
    {
     "name": "stdout",
     "output_type": "stream",
     "text": [
      "{'_shards': {'failed': 0, 'skipped': 0, 'successful': 1, 'total': 1},\n",
      " 'count': 2}\n"
     ]
    },
    {
     "name": "stderr",
     "output_type": "stream",
     "text": [
      "/tmp/ipykernel_15397/3456770309.py:1: ElasticsearchWarning: Elasticsearch built-in security features are not enabled. Without authentication, your cluster could be accessible to anyone. See https://www.elastic.co/guide/en/elasticsearch/reference/7.17/security-minimal-setup.html to enable security.\n",
      "  response = es.count(index=INDEX)\n"
     ]
    }
   ],
   "source": [
    "response = es.count(index=INDEX)\n",
    "\n",
    "pprint(response.body)"
   ]
  },
  {
   "cell_type": "markdown",
   "metadata": {},
   "source": [
    "We executed each operation one at a time, with each action requiring a separate API call. This approach is slow and inefficient. Now, let’s see how to accomplish the same task using the bulk API."
   ]
  },
  {
   "cell_type": "markdown",
   "metadata": {},
   "source": [
    "## Bulk API"
   ]
  },
  {
   "cell_type": "code",
   "execution_count": 8,
   "metadata": {},
   "outputs": [
    {
     "name": "stderr",
     "output_type": "stream",
     "text": [
      "/tmp/ipykernel_15397/3731334924.py:1: ElasticsearchWarning: Elasticsearch built-in security features are not enabled. Without authentication, your cluster could be accessible to anyone. See https://www.elastic.co/guide/en/elasticsearch/reference/7.17/security-minimal-setup.html to enable security.\n",
      "  es.indices.delete(index=INDEX, ignore_unavailable=True)\n",
      "/tmp/ipykernel_15397/3731334924.py:2: ElasticsearchWarning: Elasticsearch built-in security features are not enabled. Without authentication, your cluster could be accessible to anyone. See https://www.elastic.co/guide/en/elasticsearch/reference/7.17/security-minimal-setup.html to enable security.\n",
      "  es.indices.create(index=INDEX, settings=settings)\n"
     ]
    },
    {
     "data": {
      "text/plain": [
       "ObjectApiResponse({'acknowledged': True, 'shards_acknowledged': True, 'index': 'my_index'})"
      ]
     },
     "execution_count": 8,
     "metadata": {},
     "output_type": "execute_result"
    }
   ],
   "source": [
    "es.indices.delete(index=INDEX, ignore_unavailable=True)\n",
    "es.indices.create(index=INDEX, settings=settings)"
   ]
  },
  {
   "cell_type": "code",
   "execution_count": 9,
   "metadata": {},
   "outputs": [
    {
     "name": "stdout",
     "output_type": "stream",
     "text": [
      "{'errors': False,\n",
      " 'items': [{'index': {'_id': '1',\n",
      "                      '_index': 'my_index',\n",
      "                      '_primary_term': 1,\n",
      "                      '_seq_no': 0,\n",
      "                      '_shards': {'failed': 0, 'successful': 1, 'total': 1},\n",
      "                      '_type': '_doc',\n",
      "                      '_version': 1,\n",
      "                      'result': 'created',\n",
      "                      'status': 201}},\n",
      "           {'index': {'_id': '2',\n",
      "                      '_index': 'my_index',\n",
      "                      '_primary_term': 1,\n",
      "                      '_seq_no': 1,\n",
      "                      '_shards': {'failed': 0, 'successful': 1, 'total': 1},\n",
      "                      '_type': '_doc',\n",
      "                      '_version': 1,\n",
      "                      'result': 'created',\n",
      "                      'status': 201}},\n",
      "           {'index': {'_id': '3',\n",
      "                      '_index': 'my_index',\n",
      "                      '_primary_term': 1,\n",
      "                      '_seq_no': 2,\n",
      "                      '_shards': {'failed': 0, 'successful': 1, 'total': 1},\n",
      "                      '_type': '_doc',\n",
      "                      '_version': 1,\n",
      "                      'result': 'created',\n",
      "                      'status': 201}},\n",
      "           {'update': {'_id': '1',\n",
      "                       '_index': 'my_index',\n",
      "                       '_primary_term': 1,\n",
      "                       '_seq_no': 3,\n",
      "                       '_shards': {'failed': 0, 'successful': 1, 'total': 1},\n",
      "                       '_type': '_doc',\n",
      "                       '_version': 2,\n",
      "                       'result': 'updated',\n",
      "                       'status': 200}},\n",
      "           {'update': {'_id': '2',\n",
      "                       '_index': 'my_index',\n",
      "                       '_primary_term': 1,\n",
      "                       '_seq_no': 4,\n",
      "                       '_shards': {'failed': 0, 'successful': 1, 'total': 1},\n",
      "                       '_type': '_doc',\n",
      "                       '_version': 2,\n",
      "                       'result': 'updated',\n",
      "                       'status': 200}},\n",
      "           {'delete': {'_id': '3',\n",
      "                       '_index': 'my_index',\n",
      "                       '_primary_term': 1,\n",
      "                       '_seq_no': 5,\n",
      "                       '_shards': {'failed': 0, 'successful': 1, 'total': 1},\n",
      "                       '_type': '_doc',\n",
      "                       '_version': 2,\n",
      "                       'result': 'deleted',\n",
      "                       'status': 200}}],\n",
      " 'took': 112}\n"
     ]
    },
    {
     "name": "stderr",
     "output_type": "stream",
     "text": [
      "/tmp/ipykernel_15397/1753006985.py:1: ElasticsearchWarning: Elasticsearch built-in security features are not enabled. Without authentication, your cluster could be accessible to anyone. See https://www.elastic.co/guide/en/elasticsearch/reference/7.17/security-minimal-setup.html to enable security.\n",
      "  response = es.bulk(\n"
     ]
    }
   ],
   "source": [
    "response = es.bulk(\n",
    "    operations=[\n",
    "        # Action 1\n",
    "        {\n",
    "            \"index\": {\n",
    "                \"_index\": INDEX,\n",
    "                \"_id\": \"1\"\n",
    "            }\n",
    "        },\n",
    "        # Source 1\n",
    "        {\n",
    "            \"title\": \"Sample Title 1\",\n",
    "            \"text\": \"This is the first sample document text.\",\n",
    "            \"created_on\": \"2024-09-22\"\n",
    "        },\n",
    "        # Action 2\n",
    "        {\n",
    "            \"index\": {\n",
    "                \"_index\": INDEX,\n",
    "                \"_id\": \"2\"\n",
    "            }\n",
    "        },\n",
    "        # Source 2\n",
    "        {\n",
    "            \"title\": \"Sample Title 2\",\n",
    "            \"text\": \"Here is another example of a document.\",\n",
    "            \"created_on\": \"2024-09-24\"\n",
    "        },\n",
    "        # Action 3\n",
    "        {\n",
    "            \"index\": {\n",
    "                \"_index\": INDEX,\n",
    "                \"_id\": \"3\"\n",
    "            }\n",
    "        },\n",
    "        # Source 3\n",
    "        {\n",
    "            \"title\": \"Sample Title 3\",\n",
    "            \"text\": \"The content of the third document goes here.\",\n",
    "            \"created_on\": \"2024-09-24\"\n",
    "        },\n",
    "        # Action 4\n",
    "        {\n",
    "            \"update\": {\n",
    "                \"_id\": \"1\",\n",
    "                \"_index\": INDEX\n",
    "            }\n",
    "        },\n",
    "        # Source 4\n",
    "        {\n",
    "            \"doc\": {\n",
    "                \"title\": \"New Title\"\n",
    "            }\n",
    "        },\n",
    "        # Action 5\n",
    "        {\n",
    "            \"update\": {\n",
    "                \"_id\": \"2\",\n",
    "                \"_index\": INDEX\n",
    "            }\n",
    "        },\n",
    "        # Source 5\n",
    "        {\n",
    "            \"doc\": {\n",
    "                \"new_field\": \"dummy_value\"\n",
    "            }\n",
    "        },\n",
    "        # Action 6\n",
    "        {\n",
    "            \"delete\": {\n",
    "                \"_index\": INDEX,\n",
    "                \"_id\": \"3\"\n",
    "            }\n",
    "        },\n",
    "    ],\n",
    ")\n",
    "\n",
    "pprint(response.body)"
   ]
  },
  {
   "cell_type": "markdown",
   "metadata": {},
   "source": [
    "If `errors` is `False`, it means the bulk API successfully executed all the actions."
   ]
  },
  {
   "cell_type": "code",
   "execution_count": 10,
   "metadata": {},
   "outputs": [
    {
     "data": {
      "text/plain": [
       "False"
      ]
     },
     "execution_count": 10,
     "metadata": {},
     "output_type": "execute_result"
    }
   ],
   "source": [
    "response.body[\"errors\"]"
   ]
  }
 ],
 "metadata": {
  "kernelspec": {
   "display_name": "venv",
   "language": "python",
   "name": "python3"
  },
  "language_info": {
   "codemirror_mode": {
    "name": "ipython",
    "version": 3
   },
   "file_extension": ".py",
   "mimetype": "text/x-python",
   "name": "python",
   "nbconvert_exporter": "python",
   "pygments_lexer": "ipython3",
   "version": "3.12.3"
  }
 },
 "nbformat": 4,
 "nbformat_minor": 2
}
