{
 "cells": [
  {
   "cell_type": "markdown",
   "metadata": {},
   "source": [
    "## Documentation\n",
    "\n",
    "To read more about the common options in Elasticsearch, checkout the docs [here](https://www.elastic.co/guide/en/elasticsearch/reference/current/common-options.html#date-math).\n",
    "\n",
    "![common_options_docs](../images/common_options_docs.png)"
   ]
  },
  {
   "cell_type": "markdown",
   "metadata": {},
   "source": [
    "## Connect to ElasticSearch"
   ]
  },
  {
   "cell_type": "code",
   "execution_count": 1,
   "metadata": {},
   "outputs": [
    {
     "name": "stdout",
     "output_type": "stream",
     "text": [
      "Connected tp Elasticsearch!\n",
      "{'cluster_name': 'docker-cluster',\n",
      " 'cluster_uuid': 'iugjHCt8SwCWRVd35xnJ0A',\n",
      " 'name': '5013781c82bc',\n",
      " 'tagline': 'You Know, for Search',\n",
      " 'version': {'build_date': '2025-02-05T22:10:57.067596412Z',\n",
      "             'build_flavor': 'default',\n",
      "             'build_hash': '747663ddda3421467150de0e4301e8d4bc636b0c',\n",
      "             'build_snapshot': False,\n",
      "             'build_type': 'docker',\n",
      "             'lucene_version': '9.12.0',\n",
      "             'minimum_index_compatibility_version': '7.0.0',\n",
      "             'minimum_wire_compatibility_version': '7.17.0',\n",
      "             'number': '8.17.2'}}\n"
     ]
    }
   ],
   "source": [
    "from pprint import pprint\n",
    "from elasticsearch import Elasticsearch\n",
    "\n",
    "HOST = \"http://localhost:9200\"\n",
    "\n",
    "es = Elasticsearch(hosts=HOST)\n",
    "client_info = es.info()\n",
    "print(\"Connected tp Elasticsearch!\")\n",
    "pprint(client_info.body)"
   ]
  },
  {
   "cell_type": "markdown",
   "metadata": {},
   "source": [
    "## 1. Human-readable output"
   ]
  },
  {
   "cell_type": "code",
   "execution_count": 3,
   "metadata": {},
   "outputs": [
    {
     "name": "stdout",
     "output_type": "stream",
     "text": [
      "{'max_uptime': '2h',\n",
      " 'max_uptime_in_millis': 7426653,\n",
      " 'mem': {'heap_max': '3gb',\n",
      "         'heap_max_in_bytes': 3221225472,\n",
      "         'heap_used': '109.8mb',\n",
      "         'heap_used_in_bytes': 115235328},\n",
      " 'threads': 91,\n",
      " 'versions': [{'bundled_jdk': True,\n",
      "               'count': 1,\n",
      "               'using_bundled_jdk': True,\n",
      "               'version': '23',\n",
      "               'vm_name': 'OpenJDK 64-Bit Server VM',\n",
      "               'vm_vendor': 'Oracle Corporation',\n",
      "               'vm_version': '23+37-2369'}]}\n"
     ]
    }
   ],
   "source": [
    "response = es.cluster.stats(human=True)\n",
    "pprint(response.body['nodes'][\"jvm\"])"
   ]
  },
  {
   "cell_type": "code",
   "execution_count": 4,
   "metadata": {},
   "outputs": [
    {
     "name": "stdout",
     "output_type": "stream",
     "text": [
      "{'max_uptime_in_millis': 7501564,\n",
      " 'mem': {'heap_max_in_bytes': 3221225472, 'heap_used_in_bytes': 119429632},\n",
      " 'threads': 91,\n",
      " 'versions': [{'bundled_jdk': True,\n",
      "               'count': 1,\n",
      "               'using_bundled_jdk': True,\n",
      "               'version': '23',\n",
      "               'vm_name': 'OpenJDK 64-Bit Server VM',\n",
      "               'vm_vendor': 'Oracle Corporation',\n",
      "               'vm_version': '23+37-2369'}]}\n"
     ]
    }
   ],
   "source": [
    "response = es.cluster.stats(human=False)\n",
    "pprint(response.body['nodes'][\"jvm\"])"
   ]
  },
  {
   "cell_type": "markdown",
   "metadata": {},
   "source": [
    "## 2. Date math"
   ]
  },
  {
   "cell_type": "code",
   "execution_count": 5,
   "metadata": {},
   "outputs": [
    {
     "data": {
      "text/plain": [
       "ObjectApiResponse({'acknowledged': True, 'shards_acknowledged': True, 'index': 'my_index'})"
      ]
     },
     "execution_count": 5,
     "metadata": {},
     "output_type": "execute_result"
    }
   ],
   "source": [
    "settings = {\n",
    "    \"index\": {\n",
    "        \"number_of_shards\": 1,\n",
    "        \"number_of_replicas\": 0\n",
    "    }\n",
    "}\n",
    "\n",
    "index_name = \"my_index\"\n",
    "\n",
    "es.indices.delete(index=index_name, ignore_unavailable=True)\n",
    "es.indices.create(index=index_name, settings=settings)"
   ]
  },
  {
   "cell_type": "code",
   "execution_count": 6,
   "metadata": {},
   "outputs": [
    {
     "data": {
      "text/plain": [
       "ObjectApiResponse({'errors': False, 'took': 0, 'items': [{'index': {'_index': 'my_index', '_id': '_PpwPJUBq90DZqGOFGYI', '_version': 1, 'result': 'created', '_shards': {'total': 1, 'successful': 1, 'failed': 0}, '_seq_no': 0, '_primary_term': 1, 'status': 201}}, {'index': {'_index': 'my_index', '_id': '_fpwPJUBq90DZqGOFGYI', '_version': 1, 'result': 'created', '_shards': {'total': 1, 'successful': 1, 'failed': 0}, '_seq_no': 1, '_primary_term': 1, 'status': 201}}, {'index': {'_index': 'my_index', '_id': '_vpwPJUBq90DZqGOFGYI', '_version': 1, 'result': 'created', '_shards': {'total': 1, 'successful': 1, 'failed': 0}, '_seq_no': 2, '_primary_term': 1, 'status': 201}}]})"
      ]
     },
     "execution_count": 6,
     "metadata": {},
     "output_type": "execute_result"
    }
   ],
   "source": [
    "import json\n",
    "\n",
    "operations = []\n",
    "dummy_data = json.load(open(\"../data/dummy_data.json\"))\n",
    "for document in dummy_data:\n",
    "    operations.append({'index': {'_index': index_name}})\n",
    "    operations.append(document)\n",
    "\n",
    "es.bulk(operations=operations)"
   ]
  },
  {
   "cell_type": "code",
   "execution_count": 9,
   "metadata": {},
   "outputs": [
    {
     "name": "stdout",
     "output_type": "stream",
     "text": [
      "Found 2 documents\n"
     ]
    }
   ],
   "source": [
    "response = es.search(\n",
    "    index=index_name,\n",
    "    body={\n",
    "        \"query\": {\n",
    "            \"range\": {\n",
    "                \"created_on\": {\n",
    "                    \"gte\": \"2024-09-22||+1d/d\", # 2024-09-23\n",
    "                    \"lte\": \"now/d\" # 2025-02-25\n",
    "                }\n",
    "            }\n",
    "        }\n",
    "    }\n",
    ")\n",
    "\n",
    "hits = response[\"hits\"][\"hits\"]\n",
    "print(f\"Found {len(hits)} documents\")"
   ]
  },
  {
   "cell_type": "code",
   "execution_count": 10,
   "metadata": {},
   "outputs": [
    {
     "name": "stdout",
     "output_type": "stream",
     "text": [
      "Found 0 documents\n"
     ]
    }
   ],
   "source": [
    "response = es.search(\n",
    "    index=index_name,\n",
    "    body={\n",
    "        \"query\": {\n",
    "            \"range\": {\n",
    "                \"created_on\": {\n",
    "                    \"gte\": \"2024-09-22||+1M/d\", # 2024-09-22 + 1 Month\n",
    "                    \"lte\": \"now/d\" # 2025-02-25\n",
    "                }\n",
    "            }\n",
    "        }\n",
    "    }\n",
    ")\n",
    "\n",
    "hits = response[\"hits\"][\"hits\"]\n",
    "print(f\"Found {len(hits)} documents\")"
   ]
  },
  {
   "cell_type": "markdown",
   "metadata": {},
   "source": [
    "## 3. Response filtering"
   ]
  },
  {
   "cell_type": "markdown",
   "metadata": {},
   "source": [
    "### 3.1 Inclusive filtering"
   ]
  },
  {
   "cell_type": "code",
   "execution_count": 12,
   "metadata": {},
   "outputs": [
    {
     "name": "stdout",
     "output_type": "stream",
     "text": [
      "{'_shards': {'failed': 0, 'skipped': 0, 'successful': 1, 'total': 1},\n",
      " 'hits': {'hits': [{'_id': '_PpwPJUBq90DZqGOFGYI',\n",
      "                    '_index': 'my_index',\n",
      "                    '_score': 1.0,\n",
      "                    '_source': {'created_on': '2024-09-22',\n",
      "                                'text': 'This is the first sample document '\n",
      "                                        'text.',\n",
      "                                'title': 'Sample Title 1'}},\n",
      "                   {'_id': '_fpwPJUBq90DZqGOFGYI',\n",
      "                    '_index': 'my_index',\n",
      "                    '_score': 1.0,\n",
      "                    '_source': {'created_on': '2024-09-24',\n",
      "                                'text': 'Here is another example of a '\n",
      "                                        'document.',\n",
      "                                'title': 'Sample Title 2'}},\n",
      "                   {'_id': '_vpwPJUBq90DZqGOFGYI',\n",
      "                    '_index': 'my_index',\n",
      "                    '_score': 1.0,\n",
      "                    '_source': {'created_on': '2024-09-24',\n",
      "                                'text': 'The content of the third document '\n",
      "                                        'goes here.',\n",
      "                                'title': 'Sample Title 3'}}],\n",
      "          'max_score': 1.0,\n",
      "          'total': {'relation': 'eq', 'value': 3}},\n",
      " 'timed_out': False,\n",
      " 'took': 3}\n"
     ]
    }
   ],
   "source": [
    "response = es.search(\n",
    "    index=index_name,\n",
    "    body={\n",
    "        \"query\": {\n",
    "            \"match_all\": {}\n",
    "        }\n",
    "    }\n",
    ")\n",
    "\n",
    "pprint(response.body)"
   ]
  },
  {
   "cell_type": "code",
   "execution_count": 13,
   "metadata": {},
   "outputs": [
    {
     "name": "stdout",
     "output_type": "stream",
     "text": [
      "{'hits': {'hits': [{'_id': '_PpwPJUBq90DZqGOFGYI',\n",
      "                    '_source': {'created_on': '2024-09-22',\n",
      "                                'text': 'This is the first sample document '\n",
      "                                        'text.',\n",
      "                                'title': 'Sample Title 1'}},\n",
      "                   {'_id': '_fpwPJUBq90DZqGOFGYI',\n",
      "                    '_source': {'created_on': '2024-09-24',\n",
      "                                'text': 'Here is another example of a '\n",
      "                                        'document.',\n",
      "                                'title': 'Sample Title 2'}},\n",
      "                   {'_id': '_vpwPJUBq90DZqGOFGYI',\n",
      "                    '_source': {'created_on': '2024-09-24',\n",
      "                                'text': 'The content of the third document '\n",
      "                                        'goes here.',\n",
      "                                'title': 'Sample Title 3'}}]}}\n"
     ]
    }
   ],
   "source": [
    "response = es.search(\n",
    "    index=index_name,\n",
    "    body={\n",
    "        \"query\": {\n",
    "            \"match_all\": {}\n",
    "        }\n",
    "    },\n",
    "    filter_path=\"hits.hits._id,hits.hits._source\" # Keep only _id and source fields\n",
    ")\n",
    "\n",
    "pprint(response.body)"
   ]
  },
  {
   "cell_type": "markdown",
   "metadata": {},
   "source": [
    "### 3.2 Exclusive filtering"
   ]
  },
  {
   "cell_type": "code",
   "execution_count": 14,
   "metadata": {},
   "outputs": [
    {
     "name": "stdout",
     "output_type": "stream",
     "text": [
      "{'_shards': {'failed': 0, 'skipped': 0, 'successful': 1, 'total': 1},\n",
      " 'timed_out': False,\n",
      " 'took': 3}\n"
     ]
    }
   ],
   "source": [
    "response = es.search(\n",
    "    index=index_name,\n",
    "    body={\n",
    "        \"query\": {\n",
    "            \"match_all\": {}\n",
    "        }\n",
    "    },\n",
    "    filter_path=\"-hits\"  # Remove the hits key\n",
    ")\n",
    "pprint(response.body)"
   ]
  },
  {
   "cell_type": "markdown",
   "metadata": {},
   "source": [
    "### 3.3. Combined filtering"
   ]
  },
  {
   "cell_type": "code",
   "execution_count": 15,
   "metadata": {},
   "outputs": [
    {
     "name": "stdout",
     "output_type": "stream",
     "text": [
      "{'hits': {'hits': [{'_id': '_PpwPJUBq90DZqGOFGYI'},\n",
      "                   {'_id': '_fpwPJUBq90DZqGOFGYI'},\n",
      "                   {'_id': '_vpwPJUBq90DZqGOFGYI'}]}}\n"
     ]
    }
   ],
   "source": [
    "response = es.search(\n",
    "    index=index_name,\n",
    "    body={\n",
    "        \"query\": {\n",
    "            \"match_all\": {}\n",
    "        }\n",
    "    },\n",
    "    filter_path=\"hits.hits._id,-hits.hits._score\"\n",
    ")\n",
    "pprint(response.body)"
   ]
  },
  {
   "cell_type": "markdown",
   "metadata": {},
   "source": [
    "## 4. Flat settings"
   ]
  },
  {
   "cell_type": "code",
   "execution_count": 16,
   "metadata": {},
   "outputs": [
    {
     "name": "stdout",
     "output_type": "stream",
     "text": [
      "{'my_index': {'settings': {'index.creation_date': '1740475728860',\n",
      "                           'index.number_of_replicas': '0',\n",
      "                           'index.number_of_shards': '1',\n",
      "                           'index.provided_name': 'my_index',\n",
      "                           'index.routing.allocation.include._tier_preference': 'data_content',\n",
      "                           'index.uuid': 'Br3wGAAWSoOFh-ZmPujA1w',\n",
      "                           'index.version.created': '8521000'}}}\n"
     ]
    }
   ],
   "source": [
    "response = es.indices.get_settings(\n",
    "    index=index_name,\n",
    "    flat_settings=True\n",
    ")\n",
    "\n",
    "pprint(response.body)"
   ]
  }
 ],
 "metadata": {
  "kernelspec": {
   "display_name": "venv",
   "language": "python",
   "name": "python3"
  },
  "language_info": {
   "codemirror_mode": {
    "name": "ipython",
    "version": 3
   },
   "file_extension": ".py",
   "mimetype": "text/x-python",
   "name": "python",
   "nbconvert_exporter": "python",
   "pygments_lexer": "ipython3",
   "version": "3.12.3"
  }
 },
 "nbformat": 4,
 "nbformat_minor": 2
}
