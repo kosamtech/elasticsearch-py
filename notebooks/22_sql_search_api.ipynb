{
 "cells": [
  {
   "cell_type": "markdown",
   "metadata": {},
   "source": [
    "## Documentation\n",
    "\n",
    "To read more about the SQL search API, checkout the docs [here](https://www.elastic.co/guide/en/elasticsearch/reference/current/sql-search-api.html).\n",
    "\n",
    "![sql_search_api_docs](../images/sql_search_api_docs.png)"
   ]
  },
  {
   "cell_type": "markdown",
   "metadata": {},
   "source": [
    "## Connect to ElasticSearch"
   ]
  },
  {
   "cell_type": "code",
   "execution_count": 2,
   "metadata": {},
   "outputs": [
    {
     "name": "stdout",
     "output_type": "stream",
     "text": [
      "Connected tp Elasticsearch!\n",
      "{'cluster_name': 'docker-cluster',\n",
      " 'cluster_uuid': 'iugjHCt8SwCWRVd35xnJ0A',\n",
      " 'name': '5013781c82bc',\n",
      " 'tagline': 'You Know, for Search',\n",
      " 'version': {'build_date': '2025-02-05T22:10:57.067596412Z',\n",
      "             'build_flavor': 'default',\n",
      "             'build_hash': '747663ddda3421467150de0e4301e8d4bc636b0c',\n",
      "             'build_snapshot': False,\n",
      "             'build_type': 'docker',\n",
      "             'lucene_version': '9.12.0',\n",
      "             'minimum_index_compatibility_version': '7.0.0',\n",
      "             'minimum_wire_compatibility_version': '7.17.0',\n",
      "             'number': '8.17.2'}}\n"
     ]
    }
   ],
   "source": [
    "from pprint import pprint\n",
    "from elasticsearch import Elasticsearch\n",
    "\n",
    "HOST = \"http://localhost:9200\"\n",
    "\n",
    "es = Elasticsearch(hosts=HOST)\n",
    "client_info = es.info()\n",
    "print(\"Connected tp Elasticsearch!\")\n",
    "pprint(client_info.body)"
   ]
  },
  {
   "cell_type": "markdown",
   "metadata": {},
   "source": [
    "## Index data"
   ]
  },
  {
   "cell_type": "code",
   "execution_count": 3,
   "metadata": {},
   "outputs": [
    {
     "name": "stdout",
     "output_type": "stream",
     "text": [
      "{'errors': False,\n",
      " 'items': [{'index': {'_id': 'vKdCNpUBObNT95My2Z5C',\n",
      "                      '_index': 'my_index',\n",
      "                      '_primary_term': 1,\n",
      "                      '_seq_no': 0,\n",
      "                      '_shards': {'failed': 0, 'successful': 1, 'total': 1},\n",
      "                      '_version': 1,\n",
      "                      'result': 'created',\n",
      "                      'status': 201}},\n",
      "           {'index': {'_id': 'vadCNpUBObNT95My2Z5C',\n",
      "                      '_index': 'my_index',\n",
      "                      '_primary_term': 1,\n",
      "                      '_seq_no': 1,\n",
      "                      '_shards': {'failed': 0, 'successful': 1, 'total': 1},\n",
      "                      '_version': 1,\n",
      "                      'result': 'created',\n",
      "                      'status': 201}},\n",
      "           {'index': {'_id': 'vqdCNpUBObNT95My2Z5C',\n",
      "                      '_index': 'my_index',\n",
      "                      '_primary_term': 1,\n",
      "                      '_seq_no': 2,\n",
      "                      '_shards': {'failed': 0, 'successful': 1, 'total': 1},\n",
      "                      '_version': 1,\n",
      "                      'result': 'created',\n",
      "                      'status': 201}},\n",
      "           {'index': {'_id': 'v6dCNpUBObNT95My2Z5C',\n",
      "                      '_index': 'my_index',\n",
      "                      '_primary_term': 1,\n",
      "                      '_seq_no': 3,\n",
      "                      '_shards': {'failed': 0, 'successful': 1, 'total': 1},\n",
      "                      '_version': 1,\n",
      "                      'result': 'created',\n",
      "                      'status': 201}},\n",
      "           {'index': {'_id': 'wKdCNpUBObNT95My2Z5C',\n",
      "                      '_index': 'my_index',\n",
      "                      '_primary_term': 1,\n",
      "                      '_seq_no': 4,\n",
      "                      '_shards': {'failed': 0, 'successful': 1, 'total': 1},\n",
      "                      '_version': 1,\n",
      "                      'result': 'created',\n",
      "                      'status': 201}},\n",
      "           {'index': {'_id': 'wadCNpUBObNT95My2Z5D',\n",
      "                      '_index': 'my_index',\n",
      "                      '_primary_term': 1,\n",
      "                      '_seq_no': 5,\n",
      "                      '_shards': {'failed': 0, 'successful': 1, 'total': 1},\n",
      "                      '_version': 1,\n",
      "                      'result': 'created',\n",
      "                      'status': 201}},\n",
      "           {'index': {'_id': 'wqdCNpUBObNT95My2Z5D',\n",
      "                      '_index': 'my_index',\n",
      "                      '_primary_term': 1,\n",
      "                      '_seq_no': 6,\n",
      "                      '_shards': {'failed': 0, 'successful': 1, 'total': 1},\n",
      "                      '_version': 1,\n",
      "                      'result': 'created',\n",
      "                      'status': 201}},\n",
      "           {'index': {'_id': 'w6dCNpUBObNT95My2Z5D',\n",
      "                      '_index': 'my_index',\n",
      "                      '_primary_term': 1,\n",
      "                      '_seq_no': 7,\n",
      "                      '_shards': {'failed': 0, 'successful': 1, 'total': 1},\n",
      "                      '_version': 1,\n",
      "                      'result': 'created',\n",
      "                      'status': 201}},\n",
      "           {'index': {'_id': 'xKdCNpUBObNT95My2Z5D',\n",
      "                      '_index': 'my_index',\n",
      "                      '_primary_term': 1,\n",
      "                      '_seq_no': 8,\n",
      "                      '_shards': {'failed': 0, 'successful': 1, 'total': 1},\n",
      "                      '_version': 1,\n",
      "                      'result': 'created',\n",
      "                      'status': 201}},\n",
      "           {'index': {'_id': 'xadCNpUBObNT95My2Z5D',\n",
      "                      '_index': 'my_index',\n",
      "                      '_primary_term': 1,\n",
      "                      '_seq_no': 9,\n",
      "                      '_shards': {'failed': 0, 'successful': 1, 'total': 1},\n",
      "                      '_version': 1,\n",
      "                      'result': 'created',\n",
      "                      'status': 201}}],\n",
      " 'took': 0}\n"
     ]
    }
   ],
   "source": [
    "import json\n",
    "\n",
    "from pprint import pprint\n",
    "\n",
    "\n",
    "INDEX = \"my_index\"\n",
    "\n",
    "settings = {\n",
    "    \"index\": {\n",
    "        \"number_of_shards\": 1,\n",
    "        \"number_of_replicas\": 0\n",
    "    }\n",
    "}\n",
    "\n",
    "es.indices.delete(index=INDEX, ignore_unavailable=True)\n",
    "es.indices.create(index=INDEX, settings=settings)\n",
    "\n",
    "operations = []\n",
    "astronomy_documents = json.load(open(\"../data/astronomy.json\"))\n",
    "\n",
    "for document in astronomy_documents:\n",
    "    operations.append({\"index\": {\"_index\": INDEX}})\n",
    "    operations.append(document)\n",
    "\n",
    "response = es.bulk(operations=operations)\n",
    "pprint(response.body)"
   ]
  },
  {
   "cell_type": "code",
   "execution_count": 4,
   "metadata": {},
   "outputs": [
    {
     "name": "stdout",
     "output_type": "stream",
     "text": [
      "Number of documents in index:  10\n"
     ]
    }
   ],
   "source": [
    "count = es.count(index=INDEX)\n",
    "print(\"Number of documents in index: \", count[\"count\"])"
   ]
  },
  {
   "cell_type": "markdown",
   "metadata": {},
   "source": [
    "## SQL search API"
   ]
  },
  {
   "cell_type": "markdown",
   "metadata": {},
   "source": [
    "### 1. Simple select query"
   ]
  },
  {
   "cell_type": "code",
   "execution_count": 5,
   "metadata": {},
   "outputs": [
    {
     "name": "stdout",
     "output_type": "stream",
     "text": [
      "['The Solar System']\n",
      "['Black Holes']\n",
      "['Galaxies']\n",
      "['The Big Bang Theory']\n",
      "['Exoplanets']\n"
     ]
    }
   ],
   "source": [
    "query = {\n",
    "    \"query\": \"SELECT title FROM my_index ORDER BY id LIMIT 5\"\n",
    "}\n",
    "\n",
    "response = es.sql.query(body=query)\n",
    "for row in response[\"rows\"]:\n",
    "    print(row)"
   ]
  },
  {
   "cell_type": "markdown",
   "metadata": {},
   "source": [
    "### 2. Change response format"
   ]
  },
  {
   "cell_type": "code",
   "execution_count": 6,
   "metadata": {},
   "outputs": [
    {
     "name": "stdout",
     "output_type": "stream",
     "text": [
      "{'columns': [{'name': 'content', 'type': 'text'}, {'name': 'id', 'type': 'long'}, {'name': 'title', 'type': 'text'}], 'rows': [['The Solar System consists of the Sun and the objects that orbit it, including eight planets, their moons, dwarf planets, and countless small bodies like asteroids and comets.', 1, 'The Solar System'], ['A black hole is a region of space where the gravitational pull is so strong that nothing, not even light, can escape from it. They are formed when massive stars collapse under their own gravity.', 2, 'Black Holes'], ['Galaxies are vast systems that consist of stars, stellar remnants, interstellar gas, dust, and dark matter. The Milky Way is the galaxy that contains our Solar System.', 3, 'Galaxies'], ['The Big Bang Theory is the leading explanation about how the universe began. It suggests that the universe was once in an extremely hot and dense state and has been expanding ever since.', 4, 'The Big Bang Theory'], ['Exoplanets, or extrasolar planets, are planets that exist outside our solar system. They vary greatly in size and composition and are often found using methods like the transit method and radial velocity.', 5, 'Exoplanets'], ['Stars are born from clouds of gas and dust in space. They undergo a life cycle that includes stages such as main sequence, red giant, and, ultimately, either a supernova explosion or a gentle fade into a white dwarf.', 6, 'The Life Cycle of Stars'], ['Astrobiology is the study of the origin, evolution, distribution, and future of life in the universe. It combines elements of biology, chemistry, and planetary science.', 7, 'Astrobiology'], [\"Dark matter is a type of matter that does not emit light or energy. It cannot be observed directly but is believed to make up about 27% of the universe's total mass and energy.\", 8, 'Dark Matter'], ['The universe has been expanding since the Big Bang. Observations of distant galaxies show that they are moving away from us, which supports the idea of an expanding universe.', 9, 'The Expanding Universe'], ['Space exploration involves the use of space technology to explore outer space. It includes missions to planets, moons, and other celestial bodies, aiming to discover more about the universe.', 10, 'Space Exploration']]}\n"
     ]
    }
   ],
   "source": [
    "query = {\n",
    "    \"query\": \"SELECT * FROM my_index\"\n",
    "}\n",
    "\n",
    "response = es.sql.query(body=query, format=\"json\")\n",
    "print(response)"
   ]
  },
  {
   "cell_type": "code",
   "execution_count": 7,
   "metadata": {},
   "outputs": [
    {
     "name": "stdout",
     "output_type": "stream",
     "text": [
      "                                                                                                        content                                                                                                         |      id       |         title         \n",
      "------------------------------------------------------------------------------------------------------------------------------------------------------------------------------------------------------------------------+---------------+-----------------------\n",
      "The Solar System consists of the Sun and the objects that orbit it, including eight planets, their moons, dwarf planets, and countless small bodies like asteroids and comets.                                          |1              |The Solar System       \n",
      "A black hole is a region of space where the gravitational pull is so strong that nothing, not even light, can escape from it. They are formed when massive stars collapse under their own gravity.                      |2              |Black Holes            \n",
      "Galaxies are vast systems that consist of stars, stellar remnants, interstellar gas, dust, and dark matter. The Milky Way is the galaxy that contains our Solar System.                                                 |3              |Galaxies               \n",
      "The Big Bang Theory is the leading explanation about how the universe began. It suggests that the universe was once in an extremely hot and dense state and has been expanding ever since.                              |4              |The Big Bang Theory    \n",
      "Exoplanets, or extrasolar planets, are planets that exist outside our solar system. They vary greatly in size and composition and are often found using methods like the transit method and radial velocity.            |5              |Exoplanets             \n",
      "Stars are born from clouds of gas and dust in space. They undergo a life cycle that includes stages such as main sequence, red giant, and, ultimately, either a supernova explosion or a gentle fade into a white dwarf.|6              |The Life Cycle of Stars\n",
      "Astrobiology is the study of the origin, evolution, distribution, and future of life in the universe. It combines elements of biology, chemistry, and planetary science.                                                |7              |Astrobiology           \n",
      "Dark matter is a type of matter that does not emit light or energy. It cannot be observed directly but is believed to make up about 27% of the universe's total mass and energy.                                        |8              |Dark Matter            \n",
      "The universe has been expanding since the Big Bang. Observations of distant galaxies show that they are moving away from us, which supports the idea of an expanding universe.                                          |9              |The Expanding Universe \n",
      "Space exploration involves the use of space technology to explore outer space. It includes missions to planets, moons, and other celestial bodies, aiming to discover more about the universe.                          |10             |Space Exploration      \n",
      "\n"
     ]
    }
   ],
   "source": [
    "query = {\n",
    "    \"query\": \"SELECT * FROM my_index\"\n",
    "}\n",
    "\n",
    "response = es.sql.query(body=query, format=\"txt\")\n",
    "print(response)"
   ]
  },
  {
   "cell_type": "code",
   "execution_count": 8,
   "metadata": {},
   "outputs": [
    {
     "name": "stdout",
     "output_type": "stream",
     "text": [
      "content,id,title\n",
      "\"The Solar System consists of the Sun and the objects that orbit it, including eight planets, their moons, dwarf planets, and countless small bodies like asteroids and comets.\",1,The Solar System\n",
      "\"A black hole is a region of space where the gravitational pull is so strong that nothing, not even light, can escape from it. They are formed when massive stars collapse under their own gravity.\",2,Black Holes\n",
      "\"Galaxies are vast systems that consist of stars, stellar remnants, interstellar gas, dust, and dark matter. The Milky Way is the galaxy that contains our Solar System.\",3,Galaxies\n",
      "The Big Bang Theory is the leading explanation about how the universe began. It suggests that the universe was once in an extremely hot and dense state and has been expanding ever since.,4,The Big Bang Theory\n",
      "\"Exoplanets, or extrasolar planets, are planets that exist outside our solar system. They vary greatly in size and composition and are often found using methods like the transit method and radial velocity.\",5,Exoplanets\n",
      "\"Stars are born from clouds of gas and dust in space. They undergo a life cycle that includes stages such as main sequence, red giant, and, ultimately, either a supernova explosion or a gentle fade into a white dwarf.\",6,The Life Cycle of Stars\n",
      "\"Astrobiology is the study of the origin, evolution, distribution, and future of life in the universe. It combines elements of biology, chemistry, and planetary science.\",7,Astrobiology\n",
      "Dark matter is a type of matter that does not emit light or energy. It cannot be observed directly but is believed to make up about 27% of the universe's total mass and energy.,8,Dark Matter\n",
      "\"The universe has been expanding since the Big Bang. Observations of distant galaxies show that they are moving away from us, which supports the idea of an expanding universe.\",9,The Expanding Universe\n",
      "\"Space exploration involves the use of space technology to explore outer space. It includes missions to planets, moons, and other celestial bodies, aiming to discover more about the universe.\",10,Space Exploration\n",
      "\n"
     ]
    }
   ],
   "source": [
    "query = {\n",
    "    \"query\": \"SELECT * FROM my_index\"\n",
    "}\n",
    "\n",
    "response = es.sql.query(body=query, format=\"csv\")\n",
    "print(response)"
   ]
  },
  {
   "cell_type": "code",
   "execution_count": 10,
   "metadata": {},
   "outputs": [
    {
     "name": "stdout",
     "output_type": "stream",
     "text": [
      "content\tid\ttitle\n",
      "The Solar System consists of the Sun and the objects that orbit it, including eight planets, their moons, dwarf planets, and countless small bodies like asteroids and comets.\t1\tThe Solar System\n",
      "A black hole is a region of space where the gravitational pull is so strong that nothing, not even light, can escape from it. They are formed when massive stars collapse under their own gravity.\t2\tBlack Holes\n",
      "Galaxies are vast systems that consist of stars, stellar remnants, interstellar gas, dust, and dark matter. The Milky Way is the galaxy that contains our Solar System.\t3\tGalaxies\n",
      "The Big Bang Theory is the leading explanation about how the universe began. It suggests that the universe was once in an extremely hot and dense state and has been expanding ever since.\t4\tThe Big Bang Theory\n",
      "Exoplanets, or extrasolar planets, are planets that exist outside our solar system. They vary greatly in size and composition and are often found using methods like the transit method and radial velocity.\t5\tExoplanets\n",
      "Stars are born from clouds of gas and dust in space. They undergo a life cycle that includes stages such as main sequence, red giant, and, ultimately, either a supernova explosion or a gentle fade into a white dwarf.\t6\tThe Life Cycle of Stars\n",
      "Astrobiology is the study of the origin, evolution, distribution, and future of life in the universe. It combines elements of biology, chemistry, and planetary science.\t7\tAstrobiology\n",
      "Dark matter is a type of matter that does not emit light or energy. It cannot be observed directly but is believed to make up about 27% of the universe's total mass and energy.\t8\tDark Matter\n",
      "The universe has been expanding since the Big Bang. Observations of distant galaxies show that they are moving away from us, which supports the idea of an expanding universe.\t9\tThe Expanding Universe\n",
      "Space exploration involves the use of space technology to explore outer space. It includes missions to planets, moons, and other celestial bodies, aiming to discover more about the universe.\t10\tSpace Exploration\n",
      "\n"
     ]
    }
   ],
   "source": [
    "query = {\n",
    "    \"query\": \"SELECT * FROM my_index\"\n",
    "}\n",
    "\n",
    "response = es.sql.query(body=query, format=\"tsv\")\n",
    "print(response)"
   ]
  },
  {
   "cell_type": "markdown",
   "metadata": {},
   "source": [
    "### 3. Filter results"
   ]
  },
  {
   "cell_type": "code",
   "execution_count": 9,
   "metadata": {},
   "outputs": [
    {
     "name": "stdout",
     "output_type": "stream",
     "text": [
      "{'columns': [{'name': 'content', 'type': 'text'}, {'name': 'id', 'type': 'long'}, {'name': 'title', 'type': 'text'}], 'rows': [['A black hole is a region of space where the gravitational pull is so strong that nothing, not even light, can escape from it. They are formed when massive stars collapse under their own gravity.', 2, 'Black Holes']]}\n"
     ]
    },
    {
     "name": "stderr",
     "output_type": "stream",
     "text": [
      "/tmp/ipykernel_7967/1820827543.py:5: DeprecationWarning: Received 'filter' via a specific parameter in the presence of a 'body' parameter, which is deprecated and will be removed in a future version. Instead, use only 'body' or only specific parameters.\n",
      "  response = es.sql.query(body=query, filter={\n"
     ]
    }
   ],
   "source": [
    "query = {\n",
    "    \"query\": \"SELECT * FROM my_index\"\n",
    "}\n",
    "\n",
    "response = es.sql.query(body=query, filter={\n",
    "    \"term\": {\n",
    "        \"title.keyword\": \"Black Holes\"\n",
    "    }\n",
    "})\n",
    "print(response)"
   ]
  },
  {
   "cell_type": "markdown",
   "metadata": {},
   "source": [
    "### 4. Pagination"
   ]
  },
  {
   "cell_type": "code",
   "execution_count": 11,
   "metadata": {},
   "outputs": [
    {
     "name": "stderr",
     "output_type": "stream",
     "text": [
      "/tmp/ipykernel_7967/3586786142.py:5: DeprecationWarning: Received 'fetch_size' via a specific parameter in the presence of a 'body' parameter, which is deprecated and will be removed in a future version. Instead, use only 'body' or only specific parameters.\n",
      "  response = es.sql.query(\n"
     ]
    },
    {
     "data": {
      "text/plain": [
       "{'columns': [{'name': 'content', 'type': 'text'},\n",
       "  {'name': 'id', 'type': 'long'},\n",
       "  {'name': 'title', 'type': 'text'}],\n",
       " 'rows': [['Space exploration involves the use of space technology to explore outer space. It includes missions to planets, moons, and other celestial bodies, aiming to discover more about the universe.',\n",
       "   10,\n",
       "   'Space Exploration'],\n",
       "  ['The universe has been expanding since the Big Bang. Observations of distant galaxies show that they are moving away from us, which supports the idea of an expanding universe.',\n",
       "   9,\n",
       "   'The Expanding Universe'],\n",
       "  [\"Dark matter is a type of matter that does not emit light or energy. It cannot be observed directly but is believed to make up about 27% of the universe's total mass and energy.\",\n",
       "   8,\n",
       "   'Dark Matter'],\n",
       "  ['Astrobiology is the study of the origin, evolution, distribution, and future of life in the universe. It combines elements of biology, chemistry, and planetary science.',\n",
       "   7,\n",
       "   'Astrobiology'],\n",
       "  ['Stars are born from clouds of gas and dust in space. They undergo a life cycle that includes stages such as main sequence, red giant, and, ultimately, either a supernova explosion or a gentle fade into a white dwarf.',\n",
       "   6,\n",
       "   'The Life Cycle of Stars']],\n",
       " 'cursor': 'yvaYBERGTAB0jz1uwkAQhWfWNkQ0dL5FGmQTpQSDkgiKIJOE0FgI78IK25vgjfxzkhyEU3AgWhhjmY5XjJ52Z958g0vALTCESmdS9+oALMSOkDwKg1TtNZMhtAIh96lGBDQjlWzqPjygAYyRqcpVrcZY9FplotFeq0TzRFMnJTFLSx1xWlseT/8mPsRFIJOQ57bzWX6p3HV8dzWZ/r4t+rGXZhmgnY1+1q/O7n0eP/YWXMXeU/FSDKDmBrBt/6/sZ0M+9jeT797zh9w63tSd0eSdSIDO7WQDRQOIpua5Jm5BoM2dKGrg22cb4AIAAP//AwA='}"
      ]
     },
     "execution_count": 11,
     "metadata": {},
     "output_type": "execute_result"
    }
   ],
   "source": [
    "query = {\n",
    "    \"query\": \"SELECT * FROM my_index ORDER BY id DESC\"\n",
    "}\n",
    "\n",
    "response = es.sql.query(\n",
    "    body=query,\n",
    "    format='json',\n",
    "    fetch_size=5,\n",
    ")\n",
    "response.body"
   ]
  },
  {
   "cell_type": "markdown",
   "metadata": {},
   "source": [
    "### 5. Translate API"
   ]
  },
  {
   "cell_type": "code",
   "execution_count": 13,
   "metadata": {},
   "outputs": [
    {
     "data": {
      "text/plain": [
       "{'size': 20,\n",
       " 'query': {'wildcard': {'content.keyword': {'wildcard': '*universe',\n",
       "    'boost': 1.0}}},\n",
       " '_source': False,\n",
       " 'fields': [{'field': 'content'}, {'field': 'id'}, {'field': 'title'}],\n",
       " 'sort': [{'id': {'order': 'desc',\n",
       "    'missing': '_first',\n",
       "    'unmapped_type': 'long'}}],\n",
       " 'track_total_hits': -1}"
      ]
     },
     "execution_count": 13,
     "metadata": {},
     "output_type": "execute_result"
    }
   ],
   "source": [
    "translate_query = {\n",
    "    \"query\": \"SELECT * FROM my_index WHERE content LIKE '%universe' ORDER BY id DESC LIMIT 20\"\n",
    "}\n",
    "\n",
    "translated_query = es.sql.translate(body=translate_query)\n",
    "translated_query.body"
   ]
  }
 ],
 "metadata": {
  "kernelspec": {
   "display_name": "venv",
   "language": "python",
   "name": "python3"
  },
  "language_info": {
   "codemirror_mode": {
    "name": "ipython",
    "version": 3
   },
   "file_extension": ".py",
   "mimetype": "text/x-python",
   "name": "python",
   "nbconvert_exporter": "python",
   "pygments_lexer": "ipython3",
   "version": "3.12.3"
  }
 },
 "nbformat": 4,
 "nbformat_minor": 2
}
