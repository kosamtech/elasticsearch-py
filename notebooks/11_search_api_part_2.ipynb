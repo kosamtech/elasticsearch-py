{
 "cells": [
  {
   "cell_type": "markdown",
   "metadata": {},
   "source": [
    "## Documentation\n",
    "\n",
    "To read more about the search API, visit the [docs](https://www.elastic.co/guide/en/elasticsearch/reference/current/query-dsl.html).\n",
    "\n",
    "![query_dsl_docs](../images/query_dsl_docs.png)"
   ]
  },
  {
   "cell_type": "markdown",
   "metadata": {},
   "source": [
    "## Connect to ElasticSearch"
   ]
  },
  {
   "cell_type": "code",
   "execution_count": 1,
   "metadata": {},
   "outputs": [
    {
     "name": "stdout",
     "output_type": "stream",
     "text": [
      "Connected tp Elasticsearch!\n",
      "{'cluster_name': 'docker-cluster',\n",
      " 'cluster_uuid': 'IzAz_bJfQnS_zfMDjIPmJA',\n",
      " 'name': 'eb6cd056e782',\n",
      " 'tagline': 'You Know, for Search',\n",
      " 'version': {'build_date': '2025-01-09T14:09:01.578835424Z',\n",
      "             'build_flavor': 'default',\n",
      "             'build_hash': '0f88dde84795b30ca0d2c0c4796643ec5938aeb5',\n",
      "             'build_snapshot': False,\n",
      "             'build_type': 'docker',\n",
      "             'lucene_version': '8.11.3',\n",
      "             'minimum_index_compatibility_version': '6.0.0-beta1',\n",
      "             'minimum_wire_compatibility_version': '6.8.0',\n",
      "             'number': '7.17.27'}}\n"
     ]
    },
    {
     "name": "stderr",
     "output_type": "stream",
     "text": [
      "/tmp/ipykernel_19431/13932774.py:7: ElasticsearchWarning: Elasticsearch built-in security features are not enabled. Without authentication, your cluster could be accessible to anyone. See https://www.elastic.co/guide/en/elasticsearch/reference/7.17/security-minimal-setup.html to enable security.\n",
      "  client_info = es.info()\n"
     ]
    }
   ],
   "source": [
    "from pprint import pprint\n",
    "from elasticsearch import Elasticsearch\n",
    "\n",
    "HOST = \"http://localhost:9200\"\n",
    "\n",
    "es = Elasticsearch(HOST)\n",
    "client_info = es.info()\n",
    "print(\"Connected tp Elasticsearch!\")\n",
    "pprint(client_info.body)"
   ]
  },
  {
   "cell_type": "markdown",
   "metadata": {},
   "source": [
    "## Inserting documents"
   ]
  },
  {
   "cell_type": "code",
   "execution_count": 5,
   "metadata": {},
   "outputs": [
    {
     "name": "stderr",
     "output_type": "stream",
     "text": [
      "/tmp/ipykernel_19431/2757242129.py:10: ElasticsearchWarning: Elasticsearch built-in security features are not enabled. Without authentication, your cluster could be accessible to anyone. See https://www.elastic.co/guide/en/elasticsearch/reference/7.17/security-minimal-setup.html to enable security.\n",
      "  es.indices.delete(index=INDEX, ignore_unavailable=True)\n",
      "/tmp/ipykernel_19431/2757242129.py:11: ElasticsearchWarning: Elasticsearch built-in security features are not enabled. Without authentication, your cluster could be accessible to anyone. See https://www.elastic.co/guide/en/elasticsearch/reference/7.17/security-minimal-setup.html to enable security.\n",
      "  es.indices.create(index=INDEX, settings=settings)\n"
     ]
    },
    {
     "data": {
      "text/plain": [
       "ObjectApiResponse({'acknowledged': True, 'shards_acknowledged': True, 'index': 'my_index'})"
      ]
     },
     "execution_count": 5,
     "metadata": {},
     "output_type": "execute_result"
    }
   ],
   "source": [
    "INDEX = \"my_index\"\n",
    "\n",
    "settings = {\n",
    "    \"index\": {\n",
    "        \"number_of_shards\": 1,\n",
    "        \"number_of_replicas\": 0\n",
    "    }\n",
    "}\n",
    "\n",
    "es.indices.delete(index=INDEX, ignore_unavailable=True)\n",
    "es.indices.create(index=INDEX, settings=settings)"
   ]
  },
  {
   "cell_type": "markdown",
   "metadata": {},
   "source": [
    "Let's index the documents sequentially."
   ]
  },
  {
   "cell_type": "code",
   "execution_count": 6,
   "metadata": {},
   "outputs": [
    {
     "name": "stderr",
     "output_type": "stream",
     "text": [
      "  0%|          | 0/3 [00:00<?, ?it/s]/tmp/ipykernel_19431/4233790216.py:7: ElasticsearchWarning: Elasticsearch built-in security features are not enabled. Without authentication, your cluster could be accessible to anyone. See https://www.elastic.co/guide/en/elasticsearch/reference/7.17/security-minimal-setup.html to enable security.\n",
      "  response = es.index(index=INDEX, body=document)\n",
      "100%|██████████| 3/3 [00:00<00:00, 29.34it/s]\n"
     ]
    }
   ],
   "source": [
    "import json\n",
    "from tqdm import tqdm\n",
    "\n",
    "\n",
    "dummy_data = json.load(open(\"../data/dummy_data.json\"))\n",
    "for document in tqdm(dummy_data, total=len(dummy_data)):\n",
    "    response = es.index(index=INDEX, body=document)"
   ]
  },
  {
   "cell_type": "markdown",
   "metadata": {},
   "source": [
    "## Searching"
   ]
  },
  {
   "cell_type": "markdown",
   "metadata": {},
   "source": [
    "### 1. Leaf clauses"
   ]
  },
  {
   "cell_type": "markdown",
   "metadata": {},
   "source": [
    "#### 1.1. term query"
   ]
  },
  {
   "cell_type": "markdown",
   "metadata": {},
   "source": [
    "Let's use the `Query DSL` language to construct a query that will find any document that was created on `2024-09-22`"
   ]
  },
  {
   "cell_type": "code",
   "execution_count": 7,
   "metadata": {},
   "outputs": [
    {
     "name": "stdout",
     "output_type": "stream",
     "text": [
      "Found 1 documents in my_index\n"
     ]
    },
    {
     "name": "stderr",
     "output_type": "stream",
     "text": [
      "/tmp/ipykernel_19431/1657659918.py:1: ElasticsearchWarning: Elasticsearch built-in security features are not enabled. Without authentication, your cluster could be accessible to anyone. See https://www.elastic.co/guide/en/elasticsearch/reference/7.17/security-minimal-setup.html to enable security.\n",
      "  response = es.search(\n"
     ]
    }
   ],
   "source": [
    "response = es.search(\n",
    "    index=INDEX,\n",
    "    body={\n",
    "        \"query\": {\n",
    "            \"term\": {\n",
    "                \"created_on\": \"2024-09-22\"\n",
    "            }\n",
    "        }\n",
    "    }\n",
    ")\n",
    "\n",
    "n_hits = response['hits']['total']['value']\n",
    "print(f\"Found {n_hits} documents in my_index\")"
   ]
  },
  {
   "cell_type": "markdown",
   "metadata": {},
   "source": [
    "To retrieve the document just use the `hits` dictionary like this."
   ]
  },
  {
   "cell_type": "code",
   "execution_count": 8,
   "metadata": {},
   "outputs": [
    {
     "data": {
      "text/plain": [
       "[{'_index': 'my_index',\n",
       "  '_type': '_doc',\n",
       "  '_id': 'RHjCJJUBpQvCJGK5hU3T',\n",
       "  '_score': 1.0,\n",
       "  '_source': {'title': 'Sample Title 1',\n",
       "   'text': 'This is the first sample document text.',\n",
       "   'created_on': '2024-09-22'}}]"
      ]
     },
     "execution_count": 8,
     "metadata": {},
     "output_type": "execute_result"
    }
   ],
   "source": [
    "retrieved_documents = response[\"hits\"][\"hits\"]\n",
    "retrieved_documents"
   ]
  },
  {
   "cell_type": "markdown",
   "metadata": {},
   "source": [
    "#### 1.2. match query"
   ]
  },
  {
   "cell_type": "markdown",
   "metadata": {},
   "source": [
    "Now, let's search for any document that contains the word `document` in the text field."
   ]
  },
  {
   "cell_type": "code",
   "execution_count": 9,
   "metadata": {},
   "outputs": [
    {
     "name": "stdout",
     "output_type": "stream",
     "text": [
      "Found 3 documents in my_index\n"
     ]
    },
    {
     "name": "stderr",
     "output_type": "stream",
     "text": [
      "/tmp/ipykernel_19431/1667948340.py:1: ElasticsearchWarning: Elasticsearch built-in security features are not enabled. Without authentication, your cluster could be accessible to anyone. See https://www.elastic.co/guide/en/elasticsearch/reference/7.17/security-minimal-setup.html to enable security.\n",
      "  response = es.search(\n"
     ]
    }
   ],
   "source": [
    "response = es.search(\n",
    "    index=INDEX,\n",
    "    body={\n",
    "        \"query\": {\n",
    "            \"match\": {\n",
    "                \"text\": \"document\"\n",
    "            }\n",
    "        }\n",
    "    }\n",
    ")\n",
    "\n",
    "n_hits = response[\"hits\"][\"total\"][\"value\"]\n",
    "print(f\"Found {n_hits} documents in {INDEX}\")"
   ]
  },
  {
   "cell_type": "code",
   "execution_count": 10,
   "metadata": {},
   "outputs": [
    {
     "data": {
      "text/plain": [
       "[{'_index': 'my_index',\n",
       "  '_type': '_doc',\n",
       "  '_id': 'RHjCJJUBpQvCJGK5hU3T',\n",
       "  '_score': 0.13606146,\n",
       "  '_source': {'title': 'Sample Title 1',\n",
       "   'text': 'This is the first sample document text.',\n",
       "   'created_on': '2024-09-22'}},\n",
       " {'_index': 'my_index',\n",
       "  '_type': '_doc',\n",
       "  '_id': 'RXjCJJUBpQvCJGK5hk0Z',\n",
       "  '_score': 0.13606146,\n",
       "  '_source': {'title': 'Sample Title 2',\n",
       "   'text': 'Here is another example of a document.',\n",
       "   'created_on': '2024-09-24'}},\n",
       " {'_index': 'my_index',\n",
       "  '_type': '_doc',\n",
       "  '_id': 'RnjCJJUBpQvCJGK5hk0o',\n",
       "  '_score': 0.12874341,\n",
       "  '_source': {'title': 'Sample Title 3',\n",
       "   'text': 'The content of the third document goes here.',\n",
       "   'created_on': '2024-09-24'}}]"
      ]
     },
     "execution_count": 10,
     "metadata": {},
     "output_type": "execute_result"
    }
   ],
   "source": [
    "retrieved_documents = response[\"hits\"][\"hits\"]\n",
    "retrieved_documents"
   ]
  },
  {
   "cell_type": "markdown",
   "metadata": {},
   "source": [
    "#### 1.3. range query"
   ]
  },
  {
   "cell_type": "markdown",
   "metadata": {},
   "source": [
    "Let's find documents that were created before `2024-09-24`"
   ]
  },
  {
   "cell_type": "code",
   "execution_count": 11,
   "metadata": {},
   "outputs": [
    {
     "name": "stdout",
     "output_type": "stream",
     "text": [
      "Found 3 documents in my_index\n"
     ]
    },
    {
     "name": "stderr",
     "output_type": "stream",
     "text": [
      "/tmp/ipykernel_19431/2356536146.py:1: ElasticsearchWarning: Elasticsearch built-in security features are not enabled. Without authentication, your cluster could be accessible to anyone. See https://www.elastic.co/guide/en/elasticsearch/reference/7.17/security-minimal-setup.html to enable security.\n",
      "  response = es.search(\n"
     ]
    }
   ],
   "source": [
    "response = es.search(\n",
    "    index=INDEX,\n",
    "    body={\n",
    "        \"query\": {\n",
    "            \"range\": {\n",
    "                \"created_on\": {\n",
    "                    \"lte\": \"2024-09-24\"\n",
    "                }\n",
    "            }\n",
    "        }\n",
    "    }\n",
    ")\n",
    "\n",
    "n_hits = response[\"hits\"][\"total\"][\"value\"]\n",
    "print(f\"Found {n_hits} documents in {INDEX}\")"
   ]
  },
  {
   "cell_type": "code",
   "execution_count": 12,
   "metadata": {},
   "outputs": [
    {
     "data": {
      "text/plain": [
       "[{'_index': 'my_index',\n",
       "  '_type': '_doc',\n",
       "  '_id': 'RHjCJJUBpQvCJGK5hU3T',\n",
       "  '_score': 1.0,\n",
       "  '_source': {'title': 'Sample Title 1',\n",
       "   'text': 'This is the first sample document text.',\n",
       "   'created_on': '2024-09-22'}},\n",
       " {'_index': 'my_index',\n",
       "  '_type': '_doc',\n",
       "  '_id': 'RXjCJJUBpQvCJGK5hk0Z',\n",
       "  '_score': 1.0,\n",
       "  '_source': {'title': 'Sample Title 2',\n",
       "   'text': 'Here is another example of a document.',\n",
       "   'created_on': '2024-09-24'}},\n",
       " {'_index': 'my_index',\n",
       "  '_type': '_doc',\n",
       "  '_id': 'RnjCJJUBpQvCJGK5hk0o',\n",
       "  '_score': 1.0,\n",
       "  '_source': {'title': 'Sample Title 3',\n",
       "   'text': 'The content of the third document goes here.',\n",
       "   'created_on': '2024-09-24'}}]"
      ]
     },
     "execution_count": 12,
     "metadata": {},
     "output_type": "execute_result"
    }
   ],
   "source": [
    "retrieved_documents = response[\"hits\"][\"hits\"]\n",
    "retrieved_documents"
   ]
  },
  {
   "cell_type": "markdown",
   "metadata": {},
   "source": [
    "This is how you use the leaf clauses. Now, if you want to combine leaf clauses together, you do that with the compound clauses."
   ]
  },
  {
   "cell_type": "markdown",
   "metadata": {},
   "source": [
    "### 2. Compound clauses"
   ]
  },
  {
   "cell_type": "markdown",
   "metadata": {},
   "source": [
    "Let's search for documents that meet the following criteria:\n",
    "- Created on `2024-09-24`\n",
    "- Have the word `third` in the text field."
   ]
  },
  {
   "cell_type": "code",
   "execution_count": 15,
   "metadata": {},
   "outputs": [
    {
     "name": "stdout",
     "output_type": "stream",
     "text": [
      "Found 1 documents in my_index\n"
     ]
    },
    {
     "name": "stderr",
     "output_type": "stream",
     "text": [
      "/tmp/ipykernel_19431/2421250715.py:1: ElasticsearchWarning: Elasticsearch built-in security features are not enabled. Without authentication, your cluster could be accessible to anyone. See https://www.elastic.co/guide/en/elasticsearch/reference/7.17/security-minimal-setup.html to enable security.\n",
      "  response = es.search(\n"
     ]
    }
   ],
   "source": [
    "response = es.search(\n",
    "    index=INDEX,\n",
    "    body={\n",
    "        \"query\": {\n",
    "            \"bool\": {\n",
    "                \"must\": [\n",
    "                    {\n",
    "                        \"match\": {\n",
    "                            \"text\": \"third\"\n",
    "                        }\n",
    "                    },\n",
    "                    {\n",
    "                        \"range\": {\n",
    "                            \"created_on\": {\n",
    "                                \"gte\": \"2024-09-24\",\n",
    "                                \"lte\": \"2024-09-24\"\n",
    "                            }\n",
    "                        }\n",
    "                    }\n",
    "                ]\n",
    "            }\n",
    "        }\n",
    "    }\n",
    ")\n",
    "\n",
    "n_hits = response[\"hits\"][\"total\"][\"value\"]\n",
    "print(f\"Found {n_hits} documents in {INDEX}\")"
   ]
  },
  {
   "cell_type": "code",
   "execution_count": 16,
   "metadata": {},
   "outputs": [
    {
     "data": {
      "text/plain": [
       "[{'_index': 'my_index',\n",
       "  '_type': '_doc',\n",
       "  '_id': 'RnjCJJUBpQvCJGK5hk0o',\n",
       "  '_score': 1.94566,\n",
       "  '_source': {'title': 'Sample Title 3',\n",
       "   'text': 'The content of the third document goes here.',\n",
       "   'created_on': '2024-09-24'}}]"
      ]
     },
     "execution_count": 16,
     "metadata": {},
     "output_type": "execute_result"
    }
   ],
   "source": [
    "retrieved_documents = response[\"hits\"][\"hits\"]\n",
    "retrieved_documents"
   ]
  },
  {
   "cell_type": "markdown",
   "metadata": {},
   "source": [
    "With the compound clause, we were to combine two leaf clauses to find a specific document."
   ]
  }
 ],
 "metadata": {
  "kernelspec": {
   "display_name": "venv",
   "language": "python",
   "name": "python3"
  },
  "language_info": {
   "codemirror_mode": {
    "name": "ipython",
    "version": 3
   },
   "file_extension": ".py",
   "mimetype": "text/x-python",
   "name": "python",
   "nbconvert_exporter": "python",
   "pygments_lexer": "ipython3",
   "version": "3.12.3"
  }
 },
 "nbformat": 4,
 "nbformat_minor": 2
}
